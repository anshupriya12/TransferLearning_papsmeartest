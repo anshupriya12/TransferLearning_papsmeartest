{
 "cells": [
  {
   "cell_type": "markdown",
   "id": "58166299",
   "metadata": {},
   "source": [
    "Transfer Learning using PSI\n",
    "A Pap smear, also called a Pap test, is a procedure to test for cervical cancer in women. A Pap smear involves collecting cells from your cervix — the lower, narrow end of your uterus that's at the top of your vagina. Detecting cervical cancer early with a Pap smear gives you a greater chance at a cure."
   ]
  },
  {
   "cell_type": "code",
   "execution_count": 74,
   "id": "2dc58256",
   "metadata": {
    "scrolled": true
   },
   "outputs": [],
   "source": [
    "import numpy as np\n",
    "import pandas as pd\n",
    "import random\n",
    "import os\n",
    "from sklearn.model_selection import train_test_split\n",
    "from sklearn.preprocessing import LabelBinarizer \n",
    "from sklearn.model_selection import train_test_split\n",
    "from sklearn.utils import shuffle\n",
    "from sklearn.metrics import accuracy_score\n",
    "from tqdm import tqdm\n",
    "import time\n",
    "\n",
    "import tensorflow as tf\n",
    "from tensorflow.keras.models import Sequential\n",
    "from tensorflow.keras.layers import Conv2D\n",
    "from tensorflow.keras.layers import MaxPooling2D\n",
    "from tensorflow.keras.layers import Activation\n",
    "from tensorflow.keras.layers import Flatten\n",
    "from tensorflow.keras.layers import Dense\n",
    "from tensorflow.keras.optimizers import SGD\n",
    "from tensorflow.keras import backend as K\n",
    "\n",
    "# Replace the deprecated import\n",
    "from tensorflow.compat.v1.losses import sparse_softmax_cross_entropy\n"
   ]
  },
  {
   "cell_type": "code",
   "execution_count": 76,
   "id": "bb9fe98f",
   "metadata": {},
   "outputs": [
    {
     "name": "stdout",
     "output_type": "stream",
     "text": [
      "Processing images in folder: client1\n",
      "Processing images in folder: client2\n",
      "Processing images in folder: client3\n",
      "Processing images in folder: im_Dyskeratotic\n",
      "Processing images in folder: im_Koilocytotic\n",
      "Processing images in folder: im_Metaplastic\n",
      "Processing images in folder: im_Parabasal\n",
      "Processing images in folder: im_Superficial-Intermediate\n"
     ]
    }
   ],
   "source": [
    "import cv2\n",
    "import numpy as np\n",
    "import os\n",
    "\n",
    "def preprocess_images_in_folders(root_folder, target_size=(224, 224)):\n",
    "    all_preprocessed_images = []\n",
    "\n",
    "    # Iterate over all subfolders in the root folder\n",
    "    for folder_name in os.listdir(root_folder):\n",
    "        folder_path = os.path.join(root_folder, folder_name)\n",
    "\n",
    "        # Check if the path is a directory\n",
    "        if os.path.isdir(folder_path):\n",
    "            print(f\"Processing images in folder: {folder_name}\")\n",
    "\n",
    "            # Preprocess images in the current folder\n",
    "            preprocessed_images = preprocess_images_in_folder(folder_path, target_size)\n",
    "\n",
    "            # Extend the list of all preprocessed images\n",
    "            all_preprocessed_images.extend(preprocessed_images)\n",
    "\n",
    "    return all_preprocessed_images\n",
    "\n",
    "def preprocess_images_in_folder(folder_path, target_size=(224, 224)):\n",
    "    preprocessed_images = []\n",
    "\n",
    "    # Iterate over all files in the folder\n",
    "    for filename in os.listdir(folder_path):\n",
    "        if filename.endswith(('.jpg', '.bmp')):\n",
    "            # Construct the full path to the image\n",
    "            image_path = os.path.join(folder_path, filename)\n",
    "\n",
    "            # Preprocess the image\n",
    "            preprocessed_image = preprocess_image(image_path, target_size)\n",
    "\n",
    "            # Append the preprocessed image to the list\n",
    "            preprocessed_images.append(preprocessed_image)\n",
    "\n",
    "    return preprocessed_images\n",
    "\n",
    "def preprocess_image(image_path, target_size=(224, 224)):\n",
    "    # Read the image\n",
    "    image = cv2.imread(image_path)\n",
    "\n",
    "    # Resize the image\n",
    "    image = cv2.resize(image, target_size)\n",
    "\n",
    "    # Convert the image to grayscale (optional, depending on your task)\n",
    "    # image = cv2.cvtColor(image, cv2.COLOR_BGR2GRAY)\n",
    "\n",
    "    # Normalize pixel values to be between 0 and 1\n",
    "    image = image.astype(np.float32) / 255.0\n",
    "\n",
    "    # You can apply additional preprocessing steps here based on your requirements\n",
    "\n",
    "    return image\n",
    "\n",
    "# Example usage\n",
    "root_folder = \"C:\\\\Users\\\\Asus\\\\Downloads\\\\datasets1\\\\New folder\"\n",
    "all_preprocessed_images = preprocess_images_in_folders(root_folder)\n",
    "\n",
    "\n",
    "\n",
    "\n",
    "    \n"
   ]
  },
  {
   "cell_type": "code",
   "execution_count": 77,
   "id": "020fc04c",
   "metadata": {},
   "outputs": [],
   "source": [
    "import os\n",
    "import random\n",
    "import shutil\n",
    "\n",
    "main_folder_path =\"C:\\\\Users\\\\Asus\\\\Downloads\\\\datasets1\\\\New folder\"\n",
    "\n",
    "client_paths = [\n",
    "   \"C:\\\\Users\\\\Asus\\\\Downloads\\\\datasets1\\\\New folder\\\\client1\",\n",
    "   \"C:\\\\Users\\\\Asus\\\\Downloads\\\\datasets1\\\\New folder\\\\client2\",\n",
    "   \"C:\\\\Users\\\\Asus\\\\Downloads\\\\datasets1\\\\New folder\\\\client3\"\n",
    "  \n",
    "]\n",
    "\n",
    "desired_distribution = {\n",
    "    'im_Dyskeratotic': [300, 50, 400],\n",
    "    'im_Koilocytotic': [100, 100, 50],\n",
    "    'im_Metaplastic': [50, 300, 80],\n",
    "    'im_Parabasal': [134, 84, 3],\n",
    "    'im_Superficial-Intermediate': [30, 80, 353]\n",
    "}\n",
    "\n",
    "# Initialize client data dictionaries\n",
    "client_data = {client: {} for client in client_paths}\n",
    "\n",
    "# Iterate through the classes\n",
    "for class_folder in desired_distribution:\n",
    "    class_path = os.path.join(main_folder_path, class_folder)\n",
    "\n",
    "    # Check if the item is a directory (subfolder)\n",
    "    if os.path.isdir(class_path):\n",
    "        class_images = os.listdir(class_path)\n",
    "        random.shuffle(class_images)  # Shuffle images randomly\n",
    "\n",
    "        # Iterate through clients and assign images\n",
    "        for i, client in enumerate(client_paths):\n",
    "            start = sum(desired_distribution[class_folder][:i])\n",
    "            end = sum(desired_distribution[class_folder][:i + 1])\n",
    "\n",
    "            # Check if the client path exists in the dictionary\n",
    "            if client in client_data:\n",
    "                client_data[client].setdefault(class_folder, []).extend(class_images[start:end])\n",
    "\n",
    "# # Print the resulting distribution for each client\n",
    "# for client, distribution in client_data.items():\n",
    "#     print(f\"Client: {client}\")\n",
    "#     for class_folder, images in distribution.items():\n",
    "#         print(f\"  {class_folder}: {len(images)} images - {images[:5]}...\")\n",
    "\n",
    "# Copy images to the corresponding client folders\n",
    "for client, distribution in client_data.items():\n",
    "    client_folder = os.path.join(client)\n",
    "    os.makedirs(client_folder, exist_ok=True)\n",
    "\n",
    "    for class_folder, images in distribution.items():\n",
    "        class_path = os.path.join(main_folder_path, class_folder)\n",
    "        dest_path = os.path.join(client_folder, class_folder)\n",
    "        os.makedirs(dest_path, exist_ok=True)\n",
    "\n",
    "        for image in images:\n",
    "            src_path = os.path.join(class_path, image)\n",
    "            dest_image_path = os.path.join(dest_path, image)\n",
    "            shutil.copy(src_path, dest_image_path)\n"
   ]
  },
  {
   "cell_type": "code",
   "execution_count": 78,
   "id": "343e54f5",
   "metadata": {},
   "outputs": [],
   "source": [
    "from keras.preprocessing.image import ImageDataGenerator\n",
    "def load_img_data1():\n",
    "    img_size = (128,128)\n",
    "    datagen = ImageDataGenerator()\n",
    "    train_data = datagen.flow_from_directory(\n",
    "        directory= \"C:\\\\Users\\\\Asus\\\\Downloads\\\\datasets1\\\\New folder\\\\client1\",\n",
    "        target_size=img_size,\n",
    "        class_mode=\"categorical\",\n",
    "        batch_size=32,\n",
    "    )\n",
    "    \n",
    "    return train_data"
   ]
  },
  {
   "cell_type": "code",
   "execution_count": 79,
   "id": "3b4b1ae7",
   "metadata": {},
   "outputs": [],
   "source": [
    "from keras.preprocessing.image import ImageDataGenerator\n",
    "def load_img_data2():\n",
    "    img_size = (128,128)\n",
    "    datagen = ImageDataGenerator()\n",
    "    train_data = datagen.flow_from_directory(\n",
    "        directory= \"C:\\\\Users\\\\Asus\\\\Downloads\\\\datasets1\\\\New folder\\\\client2\",\n",
    "        target_size=img_size,\n",
    "        class_mode=\"categorical\",\n",
    "        batch_size=32,\n",
    "    )\n",
    "    \n",
    "    return train_data"
   ]
  },
  {
   "cell_type": "code",
   "execution_count": 80,
   "id": "043b5675",
   "metadata": {},
   "outputs": [],
   "source": [
    "from keras.preprocessing.image import ImageDataGenerator\n",
    "def load_img_data3():\n",
    "    img_size = (128,128)\n",
    "    datagen = ImageDataGenerator()\n",
    "    train_data = datagen.flow_from_directory(\n",
    "        directory=\"C:\\\\Users\\\\Asus\\\\Downloads\\\\datasets1\\\\New folder\\\\client3\",\n",
    "        target_size=img_size,\n",
    "        class_mode=\"categorical\",\n",
    "        batch_size=32,\n",
    "    )\n",
    "    \n",
    "    return train_data"
   ]
  },
  {
   "cell_type": "code",
   "execution_count": 81,
   "id": "7a029605",
   "metadata": {},
   "outputs": [
    {
     "name": "stdout",
     "output_type": "stream",
     "text": [
      "Found 3649 images belonging to 5 classes.\n",
      "Found 1736 images belonging to 5 classes.\n",
      "Found 1948 images belonging to 5 classes.\n"
     ]
    }
   ],
   "source": [
    "train1=load_img_data1()\n",
    "train2=load_img_data2()\n",
    "train3=load_img_data3()"
   ]
  },
  {
   "cell_type": "code",
   "execution_count": 82,
   "id": "f902d2f5",
   "metadata": {},
   "outputs": [],
   "source": [
    "from keras.preprocessing.image import ImageDataGenerator\n",
    "import numpy as np\n",
    "\n",
    "# def one_hot_encode_labels(labels):\n",
    "#     # Your one_hot_encode_labels function here\n",
    "def on_hot_encode_labels(lables):\n",
    "    aug_list=[]\n",
    "    for i in range(len(lables)):\n",
    "        if lables[i]==0:\n",
    "            aug_list.append([0,1,0,0,0])\n",
    "        elif lables[i]==1:\n",
    "            aug_list.append([1,0,0,0,0])\n",
    "        elif lables[i]==2:\n",
    "            aug_list.append([0,0,1,0,0])\n",
    "        elif lables[i]==3:\n",
    "            aug_list.append([0,0,0,1,0])\n",
    "        elif lables[i]==4:\n",
    "            aug_list.append([0,0,0,0,1])\n",
    "    return aug_list"
   ]
  },
  {
   "cell_type": "code",
   "execution_count": 83,
   "id": "6f9ffe19",
   "metadata": {},
   "outputs": [],
   "source": [
    "from keras.preprocessing.image import ImageDataGenerator\n",
    "import numpy as np\n",
    "\n",
    "# def one_hot_encode_labels(labels):\n",
    "    # Your one_hot_encode_labels function here\n",
    "\n",
    "def load_img_data(test_data):\n",
    "    img_size = (128, 128)\n",
    "\n",
    "    # Load images and labels into numpy arrays\n",
    "    images = []\n",
    "    labels = []\n",
    "    for batch in test_data:\n",
    "        images.extend(batch[0])  # Load images from the batch\n",
    "        labels.extend(np.argmax(batch[1], axis=1))  # Convert one-hot labels to integers\n",
    "        if len(labels) >= len(test_data.filenames):\n",
    "            break\n",
    "\n",
    "    # Convert labels to one-hot encoded format\n",
    "    one_hot_labels = on_hot_encode_labels(labels)\n",
    "\n",
    "    return np.array(images), np.array(one_hot_labels)"
   ]
  },
  {
   "cell_type": "code",
   "execution_count": 84,
   "id": "a0055f7f",
   "metadata": {},
   "outputs": [],
   "source": [
    "train1, label1 = load_img_data(train1)\n",
    "train2, label2 = load_img_data(train2)\n",
    "train3, label3 = load_img_data(train3)"
   ]
  },
  {
   "cell_type": "code",
   "execution_count": 85,
   "id": "707b5550",
   "metadata": {},
   "outputs": [],
   "source": [
    "train1=train1/255\n",
    "train2=train2/255\n",
    "train3=train3/255"
   ]
  },
  {
   "cell_type": "code",
   "execution_count": 93,
   "id": "8d3e5780",
   "metadata": {},
   "outputs": [],
   "source": [
    "import os\n",
    "import random\n",
    "import shutil\n",
    "\n",
    "main_folder_path = \"C:\\\\Users\\\\Asus\\\\Downloads\\\\datasets1\\\\New folder\"\n",
    "client_paths = [\"C:\\\\Users\\\\Asus\\\\Downloads\\\\datasets1\\\\New folder\\\\test\"]\n",
    "\n",
    "desired_distribution = {\n",
    "    'im_Dyskeratotic': [200],\n",
    "    'im_Koilocytotic': [200],\n",
    "    'im_Metaplastic': [200],\n",
    "    'im_Parabasal': [200],\n",
    "    'im_Superficial-Intermediate': [200]\n",
    "}\n",
    "\n",
    "# Initialize client data dictionaries\n",
    "client_data = {client: {} for client in client_paths}\n",
    "\n",
    "# Iterate through the classes\n",
    "for class_folder in desired_distribution:\n",
    "    class_path = os.path.join(main_folder_path, class_folder)\n",
    "\n",
    "    # Check if the item is a directory (subfolder)\n",
    "    if os.path.isdir(class_path):\n",
    "        class_images = os.listdir(class_path)\n",
    "        random.shuffle(class_images)  # Shuffle images randomly\n",
    "\n",
    "        # Iterate through clients and assign images\n",
    "        for i, client in enumerate(client_paths):\n",
    "            start = sum(desired_distribution[class_folder][:i])\n",
    "            end = sum(desired_distribution[class_folder][:i + 1])\n",
    "\n",
    "            # Check if the client path exists in the dictionary\n",
    "            if client in client_data:\n",
    "                client_data[client].setdefault(class_folder, []).extend(class_images[start:end])\n",
    "\n",
    "# Copy images to the corresponding client folders\n",
    "for client, distribution in client_data.items():\n",
    "    for class_folder, images in distribution.items():\n",
    "        client_folder = os.path.join(client, class_folder)\n",
    "        os.makedirs(client_folder, exist_ok=True)\n",
    "\n",
    "        class_path = os.path.join(main_folder_path, class_folder)\n",
    "\n",
    "        for image in images:\n",
    "            src_path = os.path.join(class_path, image)\n",
    "            dest_image_path = os.path.join(client_folder, image)\n",
    "            shutil.copy(src_path, dest_image_path)\n"
   ]
  },
  {
   "cell_type": "code",
   "execution_count": 95,
   "id": "849964b8",
   "metadata": {},
   "outputs": [],
   "source": [
    "from keras.preprocessing.image import ImageDataGenerator\n",
    "def load_img_data():\n",
    "    img_size = (128,128)\n",
    "    datagen = ImageDataGenerator()\n",
    "    train_data = datagen.flow_from_directory(\n",
    "        directory=\"C:\\\\Users\\\\Asus\\\\Downloads\\\\datasets1\\\\New folder\\\\test\",\n",
    "        target_size=img_size,\n",
    "        class_mode=\"categorical\",\n",
    "        batch_size=32,\n",
    "    )\n",
    "    \n",
    "    return train_data"
   ]
  },
  {
   "cell_type": "code",
   "execution_count": 96,
   "id": "8589abc6",
   "metadata": {},
   "outputs": [
    {
     "name": "stdout",
     "output_type": "stream",
     "text": [
      "Found 1746 images belonging to 5 classes.\n"
     ]
    }
   ],
   "source": [
    "\n",
    "test=load_img_data()"
   ]
  },
  {
   "cell_type": "code",
   "execution_count": 88,
   "id": "f52de510",
   "metadata": {
    "scrolled": true
   },
   "outputs": [
    {
     "ename": "FileNotFoundError",
     "evalue": "[WinError 3] The system cannot find the path specified: 'C:\\\\Users\\\\Asus\\\\Downloads\\\\datasets1\\\\New folder\\\\test'",
     "output_type": "error",
     "traceback": [
      "\u001b[1;31m---------------------------------------------------------------------------\u001b[0m",
      "\u001b[1;31mFileNotFoundError\u001b[0m                         Traceback (most recent call last)",
      "Cell \u001b[1;32mIn[88], line 17\u001b[0m\n\u001b[0;32m     14\u001b[0m     \u001b[38;5;28;01mreturn\u001b[39;00m train_data\n\u001b[0;32m     16\u001b[0m \u001b[38;5;66;03m# Example usage\u001b[39;00m\n\u001b[1;32m---> 17\u001b[0m test \u001b[38;5;241m=\u001b[39m load_img_data()\n",
      "Cell \u001b[1;32mIn[88], line 7\u001b[0m, in \u001b[0;36mload_img_data\u001b[1;34m()\u001b[0m\n\u001b[0;32m      4\u001b[0m img_size \u001b[38;5;241m=\u001b[39m (\u001b[38;5;241m128\u001b[39m, \u001b[38;5;241m128\u001b[39m)\n\u001b[0;32m      5\u001b[0m datagen \u001b[38;5;241m=\u001b[39m ImageDataGenerator()\n\u001b[1;32m----> 7\u001b[0m train_data \u001b[38;5;241m=\u001b[39m datagen\u001b[38;5;241m.\u001b[39mflow_from_directory(\n\u001b[0;32m      8\u001b[0m     directory\u001b[38;5;241m=\u001b[39m\u001b[38;5;124m\"\u001b[39m\u001b[38;5;124mC:\u001b[39m\u001b[38;5;130;01m\\\\\u001b[39;00m\u001b[38;5;124mUsers\u001b[39m\u001b[38;5;130;01m\\\\\u001b[39;00m\u001b[38;5;124mAsus\u001b[39m\u001b[38;5;130;01m\\\\\u001b[39;00m\u001b[38;5;124mDownloads\u001b[39m\u001b[38;5;130;01m\\\\\u001b[39;00m\u001b[38;5;124mdatasets1\u001b[39m\u001b[38;5;130;01m\\\\\u001b[39;00m\u001b[38;5;124mNew folder\u001b[39m\u001b[38;5;130;01m\\\\\u001b[39;00m\u001b[38;5;124mtest\u001b[39m\u001b[38;5;124m\"\u001b[39m,  \u001b[38;5;66;03m# Corrected directory path\u001b[39;00m\n\u001b[0;32m      9\u001b[0m     target_size\u001b[38;5;241m=\u001b[39mimg_size,\n\u001b[0;32m     10\u001b[0m     class_mode\u001b[38;5;241m=\u001b[39m\u001b[38;5;124m\"\u001b[39m\u001b[38;5;124mcategorical\u001b[39m\u001b[38;5;124m\"\u001b[39m,\n\u001b[0;32m     11\u001b[0m     batch_size\u001b[38;5;241m=\u001b[39m\u001b[38;5;241m32\u001b[39m,\n\u001b[0;32m     12\u001b[0m )\n\u001b[0;32m     14\u001b[0m \u001b[38;5;28;01mreturn\u001b[39;00m train_data\n",
      "File \u001b[1;32mC:\\ProgramData\\anaconda3\\Lib\\site-packages\\keras\\src\\preprocessing\\image.py:1649\u001b[0m, in \u001b[0;36mImageDataGenerator.flow_from_directory\u001b[1;34m(self, directory, target_size, color_mode, classes, class_mode, batch_size, shuffle, seed, save_to_dir, save_prefix, save_format, follow_links, subset, interpolation, keep_aspect_ratio)\u001b[0m\n\u001b[0;32m   1562\u001b[0m \u001b[38;5;28;01mdef\u001b[39;00m \u001b[38;5;21mflow_from_directory\u001b[39m(\n\u001b[0;32m   1563\u001b[0m     \u001b[38;5;28mself\u001b[39m,\n\u001b[0;32m   1564\u001b[0m     directory,\n\u001b[1;32m   (...)\u001b[0m\n\u001b[0;32m   1578\u001b[0m     keep_aspect_ratio\u001b[38;5;241m=\u001b[39m\u001b[38;5;28;01mFalse\u001b[39;00m,\n\u001b[0;32m   1579\u001b[0m ):\n\u001b[0;32m   1580\u001b[0m \u001b[38;5;250m    \u001b[39m\u001b[38;5;124;03m\"\"\"Takes the path to a directory & generates batches of augmented data.\u001b[39;00m\n\u001b[0;32m   1581\u001b[0m \n\u001b[0;32m   1582\u001b[0m \u001b[38;5;124;03m    Args:\u001b[39;00m\n\u001b[1;32m   (...)\u001b[0m\n\u001b[0;32m   1647\u001b[0m \u001b[38;5;124;03m        and `y` is a numpy array of corresponding labels.\u001b[39;00m\n\u001b[0;32m   1648\u001b[0m \u001b[38;5;124;03m    \"\"\"\u001b[39;00m\n\u001b[1;32m-> 1649\u001b[0m     \u001b[38;5;28;01mreturn\u001b[39;00m DirectoryIterator(\n\u001b[0;32m   1650\u001b[0m         directory,\n\u001b[0;32m   1651\u001b[0m         \u001b[38;5;28mself\u001b[39m,\n\u001b[0;32m   1652\u001b[0m         target_size\u001b[38;5;241m=\u001b[39mtarget_size,\n\u001b[0;32m   1653\u001b[0m         color_mode\u001b[38;5;241m=\u001b[39mcolor_mode,\n\u001b[0;32m   1654\u001b[0m         keep_aspect_ratio\u001b[38;5;241m=\u001b[39mkeep_aspect_ratio,\n\u001b[0;32m   1655\u001b[0m         classes\u001b[38;5;241m=\u001b[39mclasses,\n\u001b[0;32m   1656\u001b[0m         class_mode\u001b[38;5;241m=\u001b[39mclass_mode,\n\u001b[0;32m   1657\u001b[0m         data_format\u001b[38;5;241m=\u001b[39m\u001b[38;5;28mself\u001b[39m\u001b[38;5;241m.\u001b[39mdata_format,\n\u001b[0;32m   1658\u001b[0m         batch_size\u001b[38;5;241m=\u001b[39mbatch_size,\n\u001b[0;32m   1659\u001b[0m         shuffle\u001b[38;5;241m=\u001b[39mshuffle,\n\u001b[0;32m   1660\u001b[0m         seed\u001b[38;5;241m=\u001b[39mseed,\n\u001b[0;32m   1661\u001b[0m         save_to_dir\u001b[38;5;241m=\u001b[39msave_to_dir,\n\u001b[0;32m   1662\u001b[0m         save_prefix\u001b[38;5;241m=\u001b[39msave_prefix,\n\u001b[0;32m   1663\u001b[0m         save_format\u001b[38;5;241m=\u001b[39msave_format,\n\u001b[0;32m   1664\u001b[0m         follow_links\u001b[38;5;241m=\u001b[39mfollow_links,\n\u001b[0;32m   1665\u001b[0m         subset\u001b[38;5;241m=\u001b[39msubset,\n\u001b[0;32m   1666\u001b[0m         interpolation\u001b[38;5;241m=\u001b[39minterpolation,\n\u001b[0;32m   1667\u001b[0m         dtype\u001b[38;5;241m=\u001b[39m\u001b[38;5;28mself\u001b[39m\u001b[38;5;241m.\u001b[39mdtype,\n\u001b[0;32m   1668\u001b[0m     )\n",
      "File \u001b[1;32mC:\\ProgramData\\anaconda3\\Lib\\site-packages\\keras\\src\\preprocessing\\image.py:563\u001b[0m, in \u001b[0;36mDirectoryIterator.__init__\u001b[1;34m(self, directory, image_data_generator, target_size, color_mode, classes, class_mode, batch_size, shuffle, seed, data_format, save_to_dir, save_prefix, save_format, follow_links, subset, interpolation, keep_aspect_ratio, dtype)\u001b[0m\n\u001b[0;32m    561\u001b[0m \u001b[38;5;28;01mif\u001b[39;00m \u001b[38;5;129;01mnot\u001b[39;00m classes:\n\u001b[0;32m    562\u001b[0m     classes \u001b[38;5;241m=\u001b[39m []\n\u001b[1;32m--> 563\u001b[0m     \u001b[38;5;28;01mfor\u001b[39;00m subdir \u001b[38;5;129;01min\u001b[39;00m \u001b[38;5;28msorted\u001b[39m(os\u001b[38;5;241m.\u001b[39mlistdir(directory)):\n\u001b[0;32m    564\u001b[0m         \u001b[38;5;28;01mif\u001b[39;00m os\u001b[38;5;241m.\u001b[39mpath\u001b[38;5;241m.\u001b[39misdir(os\u001b[38;5;241m.\u001b[39mpath\u001b[38;5;241m.\u001b[39mjoin(directory, subdir)):\n\u001b[0;32m    565\u001b[0m             classes\u001b[38;5;241m.\u001b[39mappend(subdir)\n",
      "\u001b[1;31mFileNotFoundError\u001b[0m: [WinError 3] The system cannot find the path specified: 'C:\\\\Users\\\\Asus\\\\Downloads\\\\datasets1\\\\New folder\\\\test'"
     ]
    }
   ],
   "source": []
  },
  {
   "cell_type": "code",
   "execution_count": 97,
   "id": "ed83f021",
   "metadata": {},
   "outputs": [],
   "source": [
    "from keras.preprocessing.image import ImageDataGenerator\n",
    "import numpy as np\n",
    "\n",
    "# def one_hot_encode_labels(labels):\n",
    "#     # Your one_hot_encode_labels function here\n",
    "def on_hot_encode_labels(lables):\n",
    "    aug_list=[]\n",
    "    for i in range(len(lables)):\n",
    "        if lables[i]==0:\n",
    "            aug_list.append([0,1,0,0,0])\n",
    "        elif lables[i]==1:\n",
    "            aug_list.append([1,0,0,0,0])\n",
    "        elif lables[i]==2:\n",
    "            aug_list.append([0,0,1,0,0])\n",
    "        elif lables[i]==3:\n",
    "            aug_list.append([0,0,0,1,0])\n",
    "        elif lables[i]==4:\n",
    "            aug_list.append([0,0,0,0,1])\n",
    "    return aug_list"
   ]
  },
  {
   "cell_type": "code",
   "execution_count": 98,
   "id": "b21933b5",
   "metadata": {},
   "outputs": [],
   "source": [
    "from keras.preprocessing.image import ImageDataGenerator\n",
    "import numpy as np\n",
    "\n",
    "# def one_hot_encode_labels(labels):\n",
    "    # Your one_hot_encode_labels function here\n",
    "\n",
    "def load_img_data(test_data):\n",
    "    img_size = (128, 128)\n",
    "\n",
    "    # Load images and labels into numpy arrays\n",
    "    images = []\n",
    "    labels = []\n",
    "    for batch in test_data:\n",
    "        images.extend(batch[0])  # Load images from the batch\n",
    "        labels.extend(np.argmax(batch[1], axis=1))  # Convert one-hot labels to integers\n",
    "        if len(labels) >= len(test_data.filenames):\n",
    "            break\n",
    "\n",
    "    # Convert labels to one-hot encoded format\n",
    "    one_hot_labels = on_hot_encode_labels(labels)\n",
    "\n",
    "    return np.array(images), np.array(one_hot_labels)"
   ]
  },
  {
   "cell_type": "code",
   "execution_count": 99,
   "id": "b7456594",
   "metadata": {},
   "outputs": [],
   "source": [
    "test, one_hot_labels = load_img_data(test)"
   ]
  },
  {
   "cell_type": "code",
   "execution_count": 100,
   "id": "7b41892f",
   "metadata": {},
   "outputs": [],
   "source": [
    "test=test/255"
   ]
  },
  {
   "cell_type": "code",
   "execution_count": 101,
   "id": "3801f10e",
   "metadata": {},
   "outputs": [
    {
     "name": "stdout",
     "output_type": "stream",
     "text": [
      "Defaulting to user installation because normal site-packages is not writeable\n",
      "Requirement already satisfied: tensorflow-hub in c:\\users\\asus\\appdata\\roaming\\python\\python311\\site-packages (0.16.1)\n",
      "Requirement already satisfied: numpy>=1.12.0 in c:\\programdata\\anaconda3\\lib\\site-packages (from tensorflow-hub) (1.24.3)\n",
      "Requirement already satisfied: protobuf>=3.19.6 in c:\\programdata\\anaconda3\\lib\\site-packages (from tensorflow-hub) (4.23.4)\n",
      "Requirement already satisfied: tf-keras>=2.14.1 in c:\\users\\asus\\appdata\\roaming\\python\\python311\\site-packages (from tensorflow-hub) (2.15.0)\n",
      "Model: \"sequential\"\n",
      "_________________________________________________________________\n",
      " Layer (type)                Output Shape              Param #   \n",
      "=================================================================\n",
      " resnet101v2 (Functional)    (None, 4, 4, 2048)        42626560  \n",
      "                                                                 \n",
      " global_average_pooling2d (  (None, 2048)              0         \n",
      " GlobalAveragePooling2D)                                         \n",
      "                                                                 \n",
      " dense (Dense)               (None, 512)               1049088   \n",
      "                                                                 \n",
      " dense_1 (Dense)             (None, 128)               65664     \n",
      "                                                                 \n",
      " dense_2 (Dense)             (None, 5)                 645       \n",
      "                                                                 \n",
      "=================================================================\n",
      "Total params: 43741957 (166.86 MB)\n",
      "Trainable params: 1115397 (4.25 MB)\n",
      "Non-trainable params: 42626560 (162.61 MB)\n",
      "_________________________________________________________________\n"
     ]
    }
   ],
   "source": [
    "!pip install tensorflow-hub\n",
    "import tensorflow as tf\n",
    "import tensorflow_hub as hub\n",
    "from tensorflow.keras import layers, models, optimizers\n",
    "# import tensorflow_datasets as tfds\n",
    "\n",
    "class SimpleMLP:\n",
    "    @staticmethod\n",
    "    def build():\n",
    "        # Load the ResNet101V2 model as the base model\n",
    "        base_model = tf.keras.applications.ResNet101V2(\n",
    "            include_top=False, weights='imagenet', input_shape=(128, 128, 3)\n",
    "        )\n",
    "        \n",
    "        # Freeze the base model's layers\n",
    "        base_model.trainable = False\n",
    "\n",
    "        # Create the transfer learning model by adding custom classification layers on top of the base model\n",
    "        model = tf.keras.models.Sequential([\n",
    "            base_model,\n",
    "            tf.keras.layers.GlobalAveragePooling2D(),\n",
    "            tf.keras.layers.Dense(512, activation='relu'),\n",
    "            # Optionally, you can add another dense layer\n",
    "            tf.keras.layers.Dense(128, activation='relu'),\n",
    "            tf.keras.layers.Dense(5, activation='softmax')  # Adjust the number of output classes accordingly\n",
    "        ])\n",
    "\n",
    "        # Compile the model\n",
    "        model.compile(\n",
    "            optimizer='adam',\n",
    "            loss='categorical_crossentropy',\n",
    "            metrics=['accuracy']\n",
    "        )\n",
    "\n",
    "        return model\n",
    "\n",
    "# Create an instance of the SimpleMLP model\n",
    "simple_mlp_model = SimpleMLP.build()\n",
    "global_model=simple_mlp_model\n",
    "\n",
    "# Display the model summary\n",
    "simple_mlp_model.summary()"
   ]
  },
  {
   "cell_type": "code",
   "execution_count": 102,
   "id": "698b4642",
   "metadata": {},
   "outputs": [],
   "source": [
    "def create_clients(data_dict):\n",
    "    '''\n",
    "    Return a dictionary with keys as client names and values as data and label lists.\n",
    "    Args: data_dict: A dictionary where keys are client names, and values are tuples of data and labels.\n",
    "                    For example, {'client_1': (data_1, labels_1), 'client_2': (data_2, labels_2), ...}\n",
    "    Returns: A dictionary with keys as client names and values as tuples of data and label lists.\n",
    "    '''\n",
    "    return data_dict\n",
    "\n",
    "import tensorflow as tf\n",
    "\n",
    "\n",
    "def test_model(test, one_hot_labels,  model, comm_round):\n",
    "    loss,accuracy=model.evaluate(test, one_hot_labels)\n",
    "    print('comm_round: {} | global_acc: {:.3%} | global_loss: {}'.format(comm_round, accuracy, loss))\n",
    "    return accuracy, loss\n",
    "\n",
    "\n",
    "def avg_weights(scaled_weight_list):\n",
    "    '''Return the average of the listed scaled weights.'''\n",
    "    num_clients = len(scaled_weight_list)\n",
    "\n",
    "    if num_clients == 0:\n",
    "        return None  # Handle the case where the list is empty\n",
    "\n",
    "    avg_grad = list()\n",
    "\n",
    "    # Get the sum of gradients across all client gradients\n",
    "    for grad_list_tuple in zip(*scaled_weight_list):\n",
    "        layer_mean = tf.math.reduce_sum(grad_list_tuple, axis=0) / num_clients\n",
    "        avg_grad.append(layer_mean)\n",
    "\n",
    "    return avg_grad\n",
    "\n",
    "\n",
    "client_data = {\n",
    "    'client_1': (train1,label1),\n",
    "    'client_2': (train2,label2),\n",
    "    'client_3': (train3,label3)\n",
    "    \n",
    "}\n",
    "\n",
    "#create clients\n",
    "clients_batched = create_clients(client_data)"
   ]
  },
  {
   "cell_type": "code",
   "execution_count": 103,
   "id": "b5955d72",
   "metadata": {},
   "outputs": [],
   "source": [
    "client_names = list(clients_batched.keys())"
   ]
  },
  {
   "cell_type": "code",
   "execution_count": 104,
   "id": "b3b59858",
   "metadata": {},
   "outputs": [
    {
     "data": {
      "text/plain": [
       "(3649, 128, 128, 3)"
      ]
     },
     "execution_count": 104,
     "metadata": {},
     "output_type": "execute_result"
    }
   ],
   "source": [
    "train1.shape"
   ]
  },
  {
   "cell_type": "code",
   "execution_count": 105,
   "id": "aba3355c",
   "metadata": {},
   "outputs": [
    {
     "data": {
      "text/plain": [
       "array([[0, 1, 0, 0, 0],\n",
       "       [0, 0, 0, 1, 0],\n",
       "       [1, 0, 0, 0, 0],\n",
       "       ...,\n",
       "       [0, 0, 0, 0, 1],\n",
       "       [0, 0, 1, 0, 0],\n",
       "       [0, 0, 0, 1, 0]])"
      ]
     },
     "execution_count": 105,
     "metadata": {},
     "output_type": "execute_result"
    }
   ],
   "source": [
    "one_hot_labels"
   ]
  },
  {
   "cell_type": "code",
   "execution_count": 106,
   "id": "0be5b37d",
   "metadata": {
    "scrolled": true
   },
   "outputs": [
    {
     "name": "stderr",
     "output_type": "stream",
     "text": [
      "\r",
      "Progress Bar:   0%|                                                                              | 0/3 [00:00<?, ?it/s]"
     ]
    },
    {
     "name": "stdout",
     "output_type": "stream",
     "text": [
      "Epoch 1/2\n",
      "115/115 - 50s - loss: 0.5561 - accuracy: 0.7917 - 50s/epoch - 436ms/step\n",
      "Epoch 2/2\n",
      "115/115 - 45s - loss: 0.2230 - accuracy: 0.9189 - 45s/epoch - 392ms/step\n"
     ]
    },
    {
     "name": "stderr",
     "output_type": "stream",
     "text": [
      "\r",
      "Progress Bar:  33%|███████████████████████                                              | 1/3 [01:40<03:21, 100.59s/it]"
     ]
    },
    {
     "name": "stdout",
     "output_type": "stream",
     "text": [
      "Epoch 1/2\n",
      "55/55 - 33s - loss: 0.7471 - accuracy: 0.7293 - 33s/epoch - 592ms/step\n",
      "Epoch 2/2\n",
      "55/55 - 33s - loss: 0.2514 - accuracy: 0.9096 - 33s/epoch - 602ms/step\n"
     ]
    },
    {
     "name": "stderr",
     "output_type": "stream",
     "text": [
      "\r",
      "Progress Bar:  67%|██████████████████████████████████████████████▋                       | 2/3 [02:50<01:22, 82.28s/it]"
     ]
    },
    {
     "name": "stdout",
     "output_type": "stream",
     "text": [
      "Epoch 1/2\n",
      "61/61 - 47s - loss: 0.4675 - accuracy: 0.8362 - 47s/epoch - 773ms/step\n",
      "Epoch 2/2\n",
      "61/61 - 37s - loss: 0.1636 - accuracy: 0.9420 - 37s/epoch - 612ms/step\n"
     ]
    },
    {
     "name": "stderr",
     "output_type": "stream",
     "text": [
      "Progress Bar: 100%|██████████████████████████████████████████████████████████████████████| 3/3 [04:23<00:00, 87.94s/it]\n"
     ]
    },
    {
     "name": "stdout",
     "output_type": "stream",
     "text": [
      "55/55 [==============================] - 39s 600ms/step - loss: 0.3272 - accuracy: 0.8786\n",
      "comm_round: 0 | global_acc: 87.858% | global_loss: 0.3271610140800476\n"
     ]
    },
    {
     "name": "stderr",
     "output_type": "stream",
     "text": [
      "\r",
      "Progress Bar:   0%|                                                                              | 0/3 [00:00<?, ?it/s]"
     ]
    },
    {
     "name": "stdout",
     "output_type": "stream",
     "text": [
      "Epoch 1/2\n",
      "115/115 - 84s - loss: 0.5486 - accuracy: 0.8049 - 84s/epoch - 727ms/step\n",
      "Epoch 2/2\n",
      "115/115 - 74s - loss: 0.2280 - accuracy: 0.9145 - 74s/epoch - 646ms/step\n"
     ]
    },
    {
     "name": "stderr",
     "output_type": "stream",
     "text": [
      "\r",
      "Progress Bar:  33%|███████████████████████                                              | 1/3 [02:47<05:34, 167.46s/it]"
     ]
    },
    {
     "name": "stdout",
     "output_type": "stream",
     "text": [
      "Epoch 1/2\n",
      "55/55 - 44s - loss: 0.7006 - accuracy: 0.7465 - 44s/epoch - 799ms/step\n",
      "Epoch 2/2\n",
      "55/55 - 37s - loss: 0.2576 - accuracy: 0.9061 - 37s/epoch - 676ms/step\n"
     ]
    },
    {
     "name": "stderr",
     "output_type": "stream",
     "text": [
      "\r",
      "Progress Bar:  67%|██████████████████████████████████████████████                       | 2/3 [04:18<02:02, 122.26s/it]"
     ]
    },
    {
     "name": "stdout",
     "output_type": "stream",
     "text": [
      "Epoch 1/2\n",
      "61/61 - 47s - loss: 0.4860 - accuracy: 0.8337 - 47s/epoch - 775ms/step\n",
      "Epoch 2/2\n",
      "61/61 - 38s - loss: 0.1406 - accuracy: 0.9507 - 38s/epoch - 616ms/step\n"
     ]
    },
    {
     "name": "stderr",
     "output_type": "stream",
     "text": [
      "Progress Bar: 100%|█████████████████████████████████████████████████████████████████████| 3/3 [05:51<00:00, 117.24s/it]\n"
     ]
    },
    {
     "name": "stdout",
     "output_type": "stream",
     "text": [
      "55/55 [==============================] - 34s 601ms/step - loss: 0.3066 - accuracy: 0.8923\n",
      "comm_round: 1 | global_acc: 89.233% | global_loss: 0.3066467046737671\n"
     ]
    },
    {
     "name": "stderr",
     "output_type": "stream",
     "text": [
      "\r",
      "Progress Bar:   0%|                                                                              | 0/3 [00:00<?, ?it/s]"
     ]
    },
    {
     "name": "stdout",
     "output_type": "stream",
     "text": [
      "Epoch 1/2\n",
      "115/115 - 79s - loss: 0.5704 - accuracy: 0.7893 - 79s/epoch - 690ms/step\n",
      "Epoch 2/2\n",
      "115/115 - 68s - loss: 0.2411 - accuracy: 0.9153 - 68s/epoch - 595ms/step\n"
     ]
    },
    {
     "name": "stderr",
     "output_type": "stream",
     "text": [
      "\r",
      "Progress Bar:  33%|███████████████████████                                              | 1/3 [02:36<05:13, 156.86s/it]"
     ]
    },
    {
     "name": "stdout",
     "output_type": "stream",
     "text": [
      "Epoch 1/2\n",
      "55/55 - 45s - loss: 0.6625 - accuracy: 0.7540 - 45s/epoch - 816ms/step\n",
      "Epoch 2/2\n",
      "55/55 - 34s - loss: 0.2558 - accuracy: 0.9130 - 34s/epoch - 613ms/step\n"
     ]
    },
    {
     "name": "stderr",
     "output_type": "stream",
     "text": [
      "\r",
      "Progress Bar:  67%|██████████████████████████████████████████████                       | 2/3 [04:04<01:56, 116.14s/it]"
     ]
    },
    {
     "name": "stdout",
     "output_type": "stream",
     "text": [
      "Epoch 1/2\n",
      "61/61 - 45s - loss: 0.4782 - accuracy: 0.8419 - 45s/epoch - 737ms/step\n",
      "Epoch 2/2\n",
      "61/61 - 35s - loss: 0.1589 - accuracy: 0.9476 - 35s/epoch - 577ms/step\n"
     ]
    },
    {
     "name": "stderr",
     "output_type": "stream",
     "text": [
      "Progress Bar: 100%|█████████████████████████████████████████████████████████████████████| 3/3 [05:33<00:00, 111.09s/it]\n"
     ]
    },
    {
     "name": "stdout",
     "output_type": "stream",
     "text": [
      "55/55 [==============================] - 34s 589ms/step - loss: 0.3040 - accuracy: 0.8952\n",
      "comm_round: 2 | global_acc: 89.519% | global_loss: 0.3040443956851959\n"
     ]
    },
    {
     "name": "stderr",
     "output_type": "stream",
     "text": [
      "\r",
      "Progress Bar:   0%|                                                                              | 0/3 [00:00<?, ?it/s]"
     ]
    },
    {
     "name": "stdout",
     "output_type": "stream",
     "text": [
      "Epoch 1/2\n",
      "115/115 - 79s - loss: 0.5592 - accuracy: 0.7884 - 79s/epoch - 685ms/step\n",
      "Epoch 2/2\n",
      "115/115 - 69s - loss: 0.2414 - accuracy: 0.9142 - 69s/epoch - 600ms/step\n"
     ]
    },
    {
     "name": "stderr",
     "output_type": "stream",
     "text": [
      "\r",
      "Progress Bar:  33%|███████████████████████                                              | 1/3 [02:36<05:12, 156.21s/it]"
     ]
    },
    {
     "name": "stdout",
     "output_type": "stream",
     "text": [
      "Epoch 1/2\n",
      "55/55 - 43s - loss: 0.7357 - accuracy: 0.7218 - 43s/epoch - 782ms/step\n",
      "Epoch 2/2\n",
      "55/55 - 34s - loss: 0.2742 - accuracy: 0.9021 - 34s/epoch - 619ms/step\n"
     ]
    },
    {
     "name": "stderr",
     "output_type": "stream",
     "text": [
      "\r",
      "Progress Bar:  67%|██████████████████████████████████████████████                       | 2/3 [04:01<01:54, 114.77s/it]"
     ]
    },
    {
     "name": "stdout",
     "output_type": "stream",
     "text": [
      "Epoch 1/2\n",
      "61/61 - 45s - loss: 0.4676 - accuracy: 0.8357 - 45s/epoch - 738ms/step\n",
      "Epoch 2/2\n",
      "61/61 - 36s - loss: 0.1540 - accuracy: 0.9497 - 36s/epoch - 586ms/step\n"
     ]
    },
    {
     "name": "stderr",
     "output_type": "stream",
     "text": [
      "Progress Bar: 100%|█████████████████████████████████████████████████████████████████████| 3/3 [05:31<00:00, 110.52s/it]\n"
     ]
    },
    {
     "name": "stdout",
     "output_type": "stream",
     "text": [
      "55/55 [==============================] - 35s 604ms/step - loss: 0.2865 - accuracy: 0.9009\n",
      "comm_round: 3 | global_acc: 90.092% | global_loss: 0.2865486741065979\n"
     ]
    },
    {
     "name": "stderr",
     "output_type": "stream",
     "text": [
      "\r",
      "Progress Bar:   0%|                                                                              | 0/3 [00:00<?, ?it/s]"
     ]
    },
    {
     "name": "stdout",
     "output_type": "stream",
     "text": [
      "Epoch 1/2\n",
      "115/115 - 93s - loss: 0.5340 - accuracy: 0.8068 - 93s/epoch - 806ms/step\n",
      "Epoch 2/2\n",
      "115/115 - 70s - loss: 0.2474 - accuracy: 0.9139 - 70s/epoch - 606ms/step\n"
     ]
    },
    {
     "name": "stderr",
     "output_type": "stream",
     "text": [
      "\r",
      "Progress Bar:  33%|███████████████████████                                              | 1/3 [02:54<05:48, 174.31s/it]"
     ]
    },
    {
     "name": "stdout",
     "output_type": "stream",
     "text": [
      "Epoch 1/2\n",
      "55/55 - 42s - loss: 0.7102 - accuracy: 0.7339 - 42s/epoch - 758ms/step\n",
      "Epoch 2/2\n",
      "55/55 - 32s - loss: 0.2565 - accuracy: 0.9113 - 32s/epoch - 590ms/step\n"
     ]
    },
    {
     "name": "stderr",
     "output_type": "stream",
     "text": [
      "\r",
      "Progress Bar:  67%|██████████████████████████████████████████████                       | 2/3 [04:17<02:00, 120.92s/it]"
     ]
    },
    {
     "name": "stdout",
     "output_type": "stream",
     "text": [
      "Epoch 1/2\n",
      "61/61 - 46s - loss: 0.4597 - accuracy: 0.8486 - 46s/epoch - 762ms/step\n",
      "Epoch 2/2\n",
      "61/61 - 36s - loss: 0.1449 - accuracy: 0.9517 - 36s/epoch - 598ms/step\n"
     ]
    },
    {
     "name": "stderr",
     "output_type": "stream",
     "text": [
      "Progress Bar: 100%|█████████████████████████████████████████████████████████████████████| 3/3 [05:49<00:00, 116.40s/it]\n"
     ]
    },
    {
     "name": "stdout",
     "output_type": "stream",
     "text": [
      "55/55 [==============================] - 34s 587ms/step - loss: 0.2914 - accuracy: 0.9009\n",
      "comm_round: 4 | global_acc: 90.092% | global_loss: 0.2913598120212555\n"
     ]
    },
    {
     "name": "stderr",
     "output_type": "stream",
     "text": [
      "\r",
      "Progress Bar:   0%|                                                                              | 0/3 [00:00<?, ?it/s]"
     ]
    },
    {
     "name": "stdout",
     "output_type": "stream",
     "text": [
      "Epoch 1/2\n",
      "115/115 - 79s - loss: 0.5436 - accuracy: 0.7978 - 79s/epoch - 684ms/step\n",
      "Epoch 2/2\n",
      "115/115 - 67s - loss: 0.2297 - accuracy: 0.9120 - 67s/epoch - 585ms/step\n"
     ]
    },
    {
     "name": "stderr",
     "output_type": "stream",
     "text": [
      "\r",
      "Progress Bar:  33%|███████████████████████                                              | 1/3 [02:34<05:09, 154.57s/it]"
     ]
    },
    {
     "name": "stdout",
     "output_type": "stream",
     "text": [
      "Epoch 1/2\n",
      "55/55 - 41s - loss: 0.6794 - accuracy: 0.7632 - 41s/epoch - 747ms/step\n",
      "Epoch 2/2\n",
      "55/55 - 32s - loss: 0.2612 - accuracy: 0.9044 - 32s/epoch - 574ms/step\n"
     ]
    },
    {
     "name": "stderr",
     "output_type": "stream",
     "text": [
      "\r",
      "Progress Bar:  67%|██████████████████████████████████████████████                       | 2/3 [03:56<01:51, 111.75s/it]"
     ]
    },
    {
     "name": "stdout",
     "output_type": "stream",
     "text": [
      "Epoch 1/2\n",
      "61/61 - 50s - loss: 0.4569 - accuracy: 0.8465 - 50s/epoch - 827ms/step\n",
      "Epoch 2/2\n",
      "61/61 - 36s - loss: 0.1485 - accuracy: 0.9517 - 36s/epoch - 591ms/step\n"
     ]
    },
    {
     "name": "stderr",
     "output_type": "stream",
     "text": [
      "Progress Bar: 100%|█████████████████████████████████████████████████████████████████████| 3/3 [05:33<00:00, 111.00s/it]\n"
     ]
    },
    {
     "name": "stdout",
     "output_type": "stream",
     "text": [
      "55/55 [==============================] - 37s 650ms/step - loss: 0.2905 - accuracy: 0.9021\n",
      "comm_round: 5 | global_acc: 90.206% | global_loss: 0.2904740571975708\n"
     ]
    },
    {
     "name": "stderr",
     "output_type": "stream",
     "text": [
      "\r",
      "Progress Bar:   0%|                                                                              | 0/3 [00:00<?, ?it/s]"
     ]
    },
    {
     "name": "stdout",
     "output_type": "stream",
     "text": [
      "Epoch 1/2\n",
      "115/115 - 77s - loss: 0.5286 - accuracy: 0.8101 - 77s/epoch - 674ms/step\n",
      "Epoch 2/2\n",
      "115/115 - 69s - loss: 0.2477 - accuracy: 0.9079 - 69s/epoch - 597ms/step\n"
     ]
    },
    {
     "name": "stderr",
     "output_type": "stream",
     "text": [
      "\r",
      "Progress Bar:  33%|███████████████████████                                              | 1/3 [02:36<05:12, 156.36s/it]"
     ]
    },
    {
     "name": "stdout",
     "output_type": "stream",
     "text": [
      "Epoch 1/2\n",
      "55/55 - 42s - loss: 0.6667 - accuracy: 0.7512 - 42s/epoch - 761ms/step\n",
      "Epoch 2/2\n",
      "55/55 - 32s - loss: 0.2353 - accuracy: 0.9153 - 32s/epoch - 588ms/step\n"
     ]
    },
    {
     "name": "stderr",
     "output_type": "stream",
     "text": [
      "\r",
      "Progress Bar:  67%|██████████████████████████████████████████████                       | 2/3 [03:58<01:52, 112.83s/it]"
     ]
    },
    {
     "name": "stdout",
     "output_type": "stream",
     "text": [
      "Epoch 1/2\n",
      "61/61 - 46s - loss: 0.4550 - accuracy: 0.8480 - 46s/epoch - 748ms/step\n",
      "Epoch 2/2\n",
      "61/61 - 35s - loss: 0.1608 - accuracy: 0.9461 - 35s/epoch - 577ms/step\n"
     ]
    },
    {
     "name": "stderr",
     "output_type": "stream",
     "text": [
      "Progress Bar: 100%|█████████████████████████████████████████████████████████████████████| 3/3 [05:27<00:00, 109.17s/it]\n"
     ]
    },
    {
     "name": "stdout",
     "output_type": "stream",
     "text": [
      "55/55 [==============================] - 33s 575ms/step - loss: 0.2828 - accuracy: 0.9032\n",
      "comm_round: 6 | global_acc: 90.321% | global_loss: 0.28276553750038147\n"
     ]
    },
    {
     "name": "stderr",
     "output_type": "stream",
     "text": [
      "\r",
      "Progress Bar:   0%|                                                                              | 0/3 [00:00<?, ?it/s]"
     ]
    },
    {
     "name": "stdout",
     "output_type": "stream",
     "text": [
      "Epoch 1/2\n",
      "115/115 - 78s - loss: 0.5270 - accuracy: 0.8194 - 78s/epoch - 674ms/step\n",
      "Epoch 2/2\n",
      "115/115 - 73s - loss: 0.2315 - accuracy: 0.9142 - 73s/epoch - 637ms/step\n"
     ]
    },
    {
     "name": "stderr",
     "output_type": "stream",
     "text": [
      "\r",
      "Progress Bar:  33%|███████████████████████                                              | 1/3 [02:39<05:18, 159.17s/it]"
     ]
    },
    {
     "name": "stdout",
     "output_type": "stream",
     "text": [
      "Epoch 1/2\n",
      "55/55 - 49s - loss: 0.7252 - accuracy: 0.7327 - 49s/epoch - 892ms/step\n",
      "Epoch 2/2\n",
      "55/55 - 33s - loss: 0.2778 - accuracy: 0.9003 - 33s/epoch - 591ms/step\n"
     ]
    },
    {
     "name": "stderr",
     "output_type": "stream",
     "text": [
      "\r",
      "Progress Bar:  67%|██████████████████████████████████████████████                       | 2/3 [04:11<01:59, 119.59s/it]"
     ]
    },
    {
     "name": "stdout",
     "output_type": "stream",
     "text": [
      "Epoch 1/2\n",
      "61/61 - 53s - loss: 0.4970 - accuracy: 0.8306 - 53s/epoch - 864ms/step\n",
      "Epoch 2/2\n",
      "61/61 - 37s - loss: 0.1421 - accuracy: 0.9553 - 37s/epoch - 607ms/step\n"
     ]
    },
    {
     "name": "stderr",
     "output_type": "stream",
     "text": [
      "Progress Bar: 100%|█████████████████████████████████████████████████████████████████████| 3/3 [05:49<00:00, 116.65s/it]\n"
     ]
    },
    {
     "name": "stdout",
     "output_type": "stream",
     "text": [
      "55/55 [==============================] - 36s 633ms/step - loss: 0.2818 - accuracy: 0.9032\n",
      "comm_round: 7 | global_acc: 90.321% | global_loss: 0.2818182706832886\n"
     ]
    },
    {
     "name": "stderr",
     "output_type": "stream",
     "text": [
      "\r",
      "Progress Bar:   0%|                                                                              | 0/3 [00:00<?, ?it/s]"
     ]
    },
    {
     "name": "stdout",
     "output_type": "stream",
     "text": [
      "Epoch 1/2\n",
      "115/115 - 75s - loss: 0.5425 - accuracy: 0.8043 - 75s/epoch - 648ms/step\n",
      "Epoch 2/2\n",
      "115/115 - 65s - loss: 0.2354 - accuracy: 0.9134 - 65s/epoch - 566ms/step\n"
     ]
    },
    {
     "name": "stderr",
     "output_type": "stream",
     "text": [
      "\r",
      "Progress Bar:  33%|███████████████████████                                              | 1/3 [02:28<04:56, 148.19s/it]"
     ]
    },
    {
     "name": "stdout",
     "output_type": "stream",
     "text": [
      "Epoch 1/2\n",
      "55/55 - 41s - loss: 0.6973 - accuracy: 0.7523 - 41s/epoch - 742ms/step\n",
      "Epoch 2/2\n",
      "55/55 - 31s - loss: 0.2802 - accuracy: 0.9055 - 31s/epoch - 568ms/step\n"
     ]
    },
    {
     "name": "stderr",
     "output_type": "stream",
     "text": [
      "\r",
      "Progress Bar:  67%|██████████████████████████████████████████████                       | 2/3 [03:48<01:48, 108.37s/it]"
     ]
    },
    {
     "name": "stdout",
     "output_type": "stream",
     "text": [
      "Epoch 1/2\n",
      "61/61 - 46s - loss: 0.4797 - accuracy: 0.8352 - 46s/epoch - 752ms/step\n",
      "Epoch 2/2\n",
      "61/61 - 36s - loss: 0.1545 - accuracy: 0.9471 - 36s/epoch - 583ms/step\n"
     ]
    },
    {
     "name": "stderr",
     "output_type": "stream",
     "text": [
      "Progress Bar: 100%|█████████████████████████████████████████████████████████████████████| 3/3 [05:18<00:00, 106.09s/it]\n"
     ]
    },
    {
     "name": "stdout",
     "output_type": "stream",
     "text": [
      "55/55 [==============================] - 34s 590ms/step - loss: 0.2855 - accuracy: 0.9044\n",
      "comm_round: 8 | global_acc: 90.435% | global_loss: 0.2855142056941986\n"
     ]
    },
    {
     "name": "stderr",
     "output_type": "stream",
     "text": [
      "\r",
      "Progress Bar:   0%|                                                                              | 0/3 [00:00<?, ?it/s]"
     ]
    },
    {
     "name": "stdout",
     "output_type": "stream",
     "text": [
      "Epoch 1/2\n",
      "115/115 - 80s - loss: 0.5601 - accuracy: 0.7934 - 80s/epoch - 698ms/step\n",
      "Epoch 2/2\n",
      "115/115 - 68s - loss: 0.2304 - accuracy: 0.9167 - 68s/epoch - 591ms/step\n"
     ]
    },
    {
     "name": "stderr",
     "output_type": "stream",
     "text": [
      "\r",
      "Progress Bar:  33%|███████████████████████                                              | 1/3 [02:41<05:23, 161.63s/it]"
     ]
    },
    {
     "name": "stdout",
     "output_type": "stream",
     "text": [
      "Epoch 1/2\n",
      "55/55 - 44s - loss: 0.6870 - accuracy: 0.7465 - 44s/epoch - 799ms/step\n",
      "Epoch 2/2\n",
      "55/55 - 32s - loss: 0.2511 - accuracy: 0.9067 - 32s/epoch - 582ms/step\n"
     ]
    },
    {
     "name": "stderr",
     "output_type": "stream",
     "text": [
      "\r",
      "Progress Bar:  67%|██████████████████████████████████████████████                       | 2/3 [04:06<01:56, 116.40s/it]"
     ]
    },
    {
     "name": "stdout",
     "output_type": "stream",
     "text": [
      "Epoch 1/2\n",
      "61/61 - 49s - loss: 0.4411 - accuracy: 0.8501 - 49s/epoch - 800ms/step\n",
      "Epoch 2/2\n",
      "61/61 - 38s - loss: 0.1605 - accuracy: 0.9451 - 38s/epoch - 623ms/step\n"
     ]
    },
    {
     "name": "stderr",
     "output_type": "stream",
     "text": [
      "Progress Bar: 100%|█████████████████████████████████████████████████████████████████████| 3/3 [05:42<00:00, 114.04s/it]\n"
     ]
    },
    {
     "name": "stdout",
     "output_type": "stream",
     "text": [
      "55/55 [==============================] - 40s 664ms/step - loss: 0.2850 - accuracy: 0.9049\n",
      "comm_round: 9 | global_acc: 90.493% | global_loss: 0.28498268127441406\n"
     ]
    },
    {
     "name": "stderr",
     "output_type": "stream",
     "text": [
      "\r",
      "Progress Bar:   0%|                                                                              | 0/3 [00:00<?, ?it/s]"
     ]
    },
    {
     "name": "stdout",
     "output_type": "stream",
     "text": [
      "Epoch 1/2\n",
      "115/115 - 93s - loss: 0.5671 - accuracy: 0.7865 - 93s/epoch - 811ms/step\n",
      "Epoch 2/2\n",
      "115/115 - 70s - loss: 0.2719 - accuracy: 0.9060 - 70s/epoch - 609ms/step\n"
     ]
    },
    {
     "name": "stderr",
     "output_type": "stream",
     "text": [
      "\r",
      "Progress Bar:  33%|███████████████████████                                              | 1/3 [02:54<05:49, 174.55s/it]"
     ]
    },
    {
     "name": "stdout",
     "output_type": "stream",
     "text": [
      "Epoch 1/2\n",
      "55/55 - 44s - loss: 0.7260 - accuracy: 0.7431 - 44s/epoch - 796ms/step\n",
      "Epoch 2/2\n",
      "55/55 - 33s - loss: 0.2643 - accuracy: 0.9061 - 33s/epoch - 596ms/step\n"
     ]
    },
    {
     "name": "stderr",
     "output_type": "stream",
     "text": [
      "\r",
      "Progress Bar:  67%|██████████████████████████████████████████████                       | 2/3 [04:21<02:03, 123.02s/it]"
     ]
    },
    {
     "name": "stdout",
     "output_type": "stream",
     "text": [
      "Epoch 1/2\n",
      "61/61 - 46s - loss: 0.4726 - accuracy: 0.8403 - 46s/epoch - 760ms/step\n",
      "Epoch 2/2\n",
      "61/61 - 36s - loss: 0.1589 - accuracy: 0.9502 - 36s/epoch - 589ms/step\n"
     ]
    },
    {
     "name": "stderr",
     "output_type": "stream",
     "text": [
      "Progress Bar: 100%|█████████████████████████████████████████████████████████████████████| 3/3 [05:52<00:00, 117.61s/it]\n"
     ]
    },
    {
     "name": "stdout",
     "output_type": "stream",
     "text": [
      "55/55 [==============================] - 25s 428ms/step - loss: 0.2828 - accuracy: 0.9021\n",
      "comm_round: 10 | global_acc: 90.206% | global_loss: 0.2827552258968353\n"
     ]
    },
    {
     "name": "stderr",
     "output_type": "stream",
     "text": [
      "\r",
      "Progress Bar:   0%|                                                                              | 0/3 [00:00<?, ?it/s]"
     ]
    },
    {
     "name": "stdout",
     "output_type": "stream",
     "text": [
      "Epoch 1/2\n",
      "115/115 - 61s - loss: 0.5644 - accuracy: 0.7986 - 61s/epoch - 529ms/step\n",
      "Epoch 2/2\n",
      "115/115 - 45s - loss: 0.2173 - accuracy: 0.9211 - 45s/epoch - 392ms/step\n"
     ]
    },
    {
     "name": "stderr",
     "output_type": "stream",
     "text": [
      "\r",
      "Progress Bar:  33%|███████████████████████                                              | 1/3 [01:52<03:44, 112.39s/it]"
     ]
    },
    {
     "name": "stdout",
     "output_type": "stream",
     "text": [
      "Epoch 1/2\n",
      "55/55 - 28s - loss: 0.6965 - accuracy: 0.7529 - 28s/epoch - 502ms/step\n",
      "Epoch 2/2\n",
      "55/55 - 21s - loss: 0.2723 - accuracy: 0.9015 - 21s/epoch - 390ms/step\n"
     ]
    },
    {
     "name": "stderr",
     "output_type": "stream",
     "text": [
      "\r",
      "Progress Bar:  67%|██████████████████████████████████████████████▋                       | 2/3 [02:45<01:17, 77.41s/it]"
     ]
    },
    {
     "name": "stdout",
     "output_type": "stream",
     "text": [
      "Epoch 1/2\n",
      "61/61 - 28s - loss: 0.4680 - accuracy: 0.8414 - 28s/epoch - 455ms/step\n",
      "Epoch 2/2\n",
      "61/61 - 25s - loss: 0.1551 - accuracy: 0.9446 - 25s/epoch - 407ms/step\n"
     ]
    },
    {
     "name": "stderr",
     "output_type": "stream",
     "text": [
      "Progress Bar: 100%|██████████████████████████████████████████████████████████████████████| 3/3 [03:41<00:00, 73.96s/it]\n"
     ]
    },
    {
     "name": "stdout",
     "output_type": "stream",
     "text": [
      "55/55 [==============================] - 26s 445ms/step - loss: 0.2807 - accuracy: 0.9021\n",
      "comm_round: 11 | global_acc: 90.206% | global_loss: 0.28073421120643616\n"
     ]
    },
    {
     "name": "stderr",
     "output_type": "stream",
     "text": [
      "\r",
      "Progress Bar:   0%|                                                                              | 0/3 [00:00<?, ?it/s]"
     ]
    },
    {
     "name": "stdout",
     "output_type": "stream",
     "text": [
      "Epoch 1/2\n",
      "115/115 - 55s - loss: 0.5737 - accuracy: 0.7994 - 55s/epoch - 479ms/step\n",
      "Epoch 2/2\n",
      "115/115 - 51s - loss: 0.2385 - accuracy: 0.9134 - 51s/epoch - 440ms/step\n"
     ]
    },
    {
     "name": "stderr",
     "output_type": "stream",
     "text": [
      "\r",
      "Progress Bar:  33%|███████████████████████                                              | 1/3 [01:50<03:41, 110.75s/it]"
     ]
    },
    {
     "name": "stdout",
     "output_type": "stream",
     "text": [
      "Epoch 1/2\n",
      "55/55 - 28s - loss: 0.7305 - accuracy: 0.7356 - 28s/epoch - 510ms/step\n",
      "Epoch 2/2\n",
      "55/55 - 24s - loss: 0.2505 - accuracy: 0.9061 - 24s/epoch - 445ms/step\n"
     ]
    },
    {
     "name": "stderr",
     "output_type": "stream",
     "text": [
      "\r",
      "Progress Bar:  67%|██████████████████████████████████████████████▋                       | 2/3 [02:47<01:19, 79.12s/it]"
     ]
    },
    {
     "name": "stdout",
     "output_type": "stream",
     "text": [
      "Epoch 1/2\n",
      "61/61 - 40s - loss: 0.4493 - accuracy: 0.8522 - 40s/epoch - 654ms/step\n",
      "Epoch 2/2\n",
      "61/61 - 27s - loss: 0.1630 - accuracy: 0.9435 - 27s/epoch - 441ms/step\n"
     ]
    },
    {
     "name": "stderr",
     "output_type": "stream",
     "text": [
      "Progress Bar: 100%|██████████████████████████████████████████████████████████████████████| 3/3 [03:58<00:00, 79.45s/it]\n"
     ]
    },
    {
     "name": "stdout",
     "output_type": "stream",
     "text": [
      "55/55 [==============================] - 26s 461ms/step - loss: 0.2817 - accuracy: 0.9015\n",
      "comm_round: 12 | global_acc: 90.149% | global_loss: 0.2816556692123413\n"
     ]
    },
    {
     "name": "stderr",
     "output_type": "stream",
     "text": [
      "\r",
      "Progress Bar:   0%|                                                                              | 0/3 [00:00<?, ?it/s]"
     ]
    },
    {
     "name": "stdout",
     "output_type": "stream",
     "text": [
      "Epoch 1/2\n",
      "115/115 - 68s - loss: 0.5445 - accuracy: 0.7945 - 68s/epoch - 592ms/step\n",
      "Epoch 2/2\n",
      "115/115 - 59s - loss: 0.2341 - accuracy: 0.9137 - 59s/epoch - 510ms/step\n"
     ]
    },
    {
     "name": "stderr",
     "output_type": "stream",
     "text": [
      "\r",
      "Progress Bar:  33%|███████████████████████                                              | 1/3 [02:15<04:30, 135.34s/it]"
     ]
    },
    {
     "name": "stdout",
     "output_type": "stream",
     "text": [
      "Epoch 1/2\n",
      "55/55 - 31s - loss: 0.7086 - accuracy: 0.7500 - 31s/epoch - 568ms/step\n",
      "Epoch 2/2\n",
      "55/55 - 26s - loss: 0.2466 - accuracy: 0.9142 - 26s/epoch - 471ms/step\n"
     ]
    },
    {
     "name": "stderr",
     "output_type": "stream",
     "text": [
      "\r",
      "Progress Bar:  67%|██████████████████████████████████████████████▋                       | 2/3 [03:17<01:32, 92.32s/it]"
     ]
    },
    {
     "name": "stdout",
     "output_type": "stream",
     "text": [
      "Epoch 1/2\n",
      "61/61 - 34s - loss: 0.4744 - accuracy: 0.8378 - 34s/epoch - 565ms/step\n",
      "Epoch 2/2\n",
      "61/61 - 30s - loss: 0.1545 - accuracy: 0.9523 - 30s/epoch - 485ms/step\n"
     ]
    },
    {
     "name": "stderr",
     "output_type": "stream",
     "text": [
      "Progress Bar: 100%|██████████████████████████████████████████████████████████████████████| 3/3 [04:26<00:00, 88.69s/it]\n"
     ]
    },
    {
     "name": "stdout",
     "output_type": "stream",
     "text": [
      "55/55 [==============================] - 26s 451ms/step - loss: 0.2802 - accuracy: 0.9021\n",
      "comm_round: 13 | global_acc: 90.206% | global_loss: 0.28021371364593506\n"
     ]
    },
    {
     "name": "stderr",
     "output_type": "stream",
     "text": [
      "\r",
      "Progress Bar:   0%|                                                                              | 0/3 [00:00<?, ?it/s]"
     ]
    },
    {
     "name": "stdout",
     "output_type": "stream",
     "text": [
      "Epoch 1/2\n",
      "115/115 - 64s - loss: 0.5526 - accuracy: 0.7956 - 64s/epoch - 559ms/step\n",
      "Epoch 2/2\n",
      "115/115 - 59s - loss: 0.2196 - accuracy: 0.9137 - 59s/epoch - 509ms/step\n"
     ]
    },
    {
     "name": "stderr",
     "output_type": "stream",
     "text": [
      "\r",
      "Progress Bar:  33%|███████████████████████                                              | 1/3 [02:11<04:23, 131.92s/it]"
     ]
    },
    {
     "name": "stdout",
     "output_type": "stream",
     "text": [
      "Epoch 1/2\n",
      "55/55 - 31s - loss: 0.6983 - accuracy: 0.7477 - 31s/epoch - 562ms/step\n",
      "Epoch 2/2\n",
      "55/55 - 26s - loss: 0.2489 - accuracy: 0.9194 - 26s/epoch - 468ms/step\n"
     ]
    },
    {
     "name": "stderr",
     "output_type": "stream",
     "text": [
      "\r",
      "Progress Bar:  67%|██████████████████████████████████████████████▋                       | 2/3 [03:13<01:30, 90.42s/it]"
     ]
    },
    {
     "name": "stdout",
     "output_type": "stream",
     "text": [
      "Epoch 1/2\n",
      "61/61 - 34s - loss: 0.4495 - accuracy: 0.8496 - 34s/epoch - 559ms/step\n",
      "Epoch 2/2\n",
      "61/61 - 29s - loss: 0.1725 - accuracy: 0.9415 - 29s/epoch - 475ms/step\n"
     ]
    },
    {
     "name": "stderr",
     "output_type": "stream",
     "text": [
      "Progress Bar: 100%|██████████████████████████████████████████████████████████████████████| 3/3 [04:20<00:00, 86.94s/it]\n"
     ]
    },
    {
     "name": "stdout",
     "output_type": "stream",
     "text": [
      "55/55 [==============================] - 25s 435ms/step - loss: 0.2778 - accuracy: 0.9015\n",
      "comm_round: 14 | global_acc: 90.149% | global_loss: 0.2777610719203949\n"
     ]
    },
    {
     "name": "stderr",
     "output_type": "stream",
     "text": [
      "\r",
      "Progress Bar:   0%|                                                                              | 0/3 [00:00<?, ?it/s]"
     ]
    },
    {
     "name": "stdout",
     "output_type": "stream",
     "text": [
      "Epoch 1/2\n",
      "115/115 - 60s - loss: 0.5474 - accuracy: 0.8021 - 60s/epoch - 523ms/step\n",
      "Epoch 2/2\n",
      "115/115 - 54s - loss: 0.2434 - accuracy: 0.9087 - 54s/epoch - 471ms/step\n"
     ]
    },
    {
     "name": "stderr",
     "output_type": "stream",
     "text": [
      "\r",
      "Progress Bar:  33%|███████████████████████                                              | 1/3 [02:02<04:05, 122.57s/it]"
     ]
    },
    {
     "name": "stdout",
     "output_type": "stream",
     "text": [
      "Epoch 1/2\n",
      "55/55 - 29s - loss: 0.6872 - accuracy: 0.7425 - 29s/epoch - 521ms/step\n",
      "Epoch 2/2\n",
      "55/55 - 26s - loss: 0.2445 - accuracy: 0.9119 - 26s/epoch - 469ms/step\n"
     ]
    },
    {
     "name": "stderr",
     "output_type": "stream",
     "text": [
      "\r",
      "Progress Bar:  67%|██████████████████████████████████████████████▋                       | 2/3 [03:01<01:25, 85.17s/it]"
     ]
    },
    {
     "name": "stdout",
     "output_type": "stream",
     "text": [
      "Epoch 1/2\n",
      "61/61 - 40s - loss: 0.4765 - accuracy: 0.8409 - 40s/epoch - 658ms/step\n",
      "Epoch 2/2\n",
      "61/61 - 27s - loss: 0.1457 - accuracy: 0.9487 - 27s/epoch - 447ms/step\n"
     ]
    },
    {
     "name": "stderr",
     "output_type": "stream",
     "text": [
      "Progress Bar: 100%|██████████████████████████████████████████████████████████████████████| 3/3 [04:13<00:00, 84.39s/it]\n"
     ]
    },
    {
     "name": "stdout",
     "output_type": "stream",
     "text": [
      "55/55 [==============================] - 26s 447ms/step - loss: 0.2790 - accuracy: 0.9032\n",
      "comm_round: 15 | global_acc: 90.321% | global_loss: 0.2790430784225464\n"
     ]
    },
    {
     "name": "stderr",
     "output_type": "stream",
     "text": [
      "\r",
      "Progress Bar:   0%|                                                                              | 0/3 [00:00<?, ?it/s]"
     ]
    },
    {
     "name": "stdout",
     "output_type": "stream",
     "text": [
      "Epoch 1/2\n",
      "115/115 - 56s - loss: 0.5474 - accuracy: 0.8071 - 56s/epoch - 484ms/step\n",
      "Epoch 2/2\n",
      "115/115 - 50s - loss: 0.2608 - accuracy: 0.8986 - 50s/epoch - 438ms/step\n"
     ]
    },
    {
     "name": "stderr",
     "output_type": "stream",
     "text": [
      "\r",
      "Progress Bar:  33%|███████████████████████                                              | 1/3 [01:52<03:44, 112.07s/it]"
     ]
    },
    {
     "name": "stdout",
     "output_type": "stream",
     "text": [
      "Epoch 1/2\n",
      "55/55 - 28s - loss: 0.7166 - accuracy: 0.7304 - 28s/epoch - 513ms/step\n",
      "Epoch 2/2\n",
      "55/55 - 23s - loss: 0.2637 - accuracy: 0.8980 - 23s/epoch - 425ms/step\n"
     ]
    },
    {
     "name": "stderr",
     "output_type": "stream",
     "text": [
      "\r",
      "Progress Bar:  67%|██████████████████████████████████████████████▋                       | 2/3 [02:48<01:19, 79.31s/it]"
     ]
    },
    {
     "name": "stdout",
     "output_type": "stream",
     "text": [
      "Epoch 1/2\n",
      "61/61 - 34s - loss: 0.4731 - accuracy: 0.8455 - 34s/epoch - 558ms/step\n",
      "Epoch 2/2\n",
      "61/61 - 27s - loss: 0.1735 - accuracy: 0.9415 - 27s/epoch - 438ms/step\n"
     ]
    },
    {
     "name": "stderr",
     "output_type": "stream",
     "text": [
      "Progress Bar: 100%|██████████████████████████████████████████████████████████████████████| 3/3 [03:54<00:00, 78.08s/it]\n"
     ]
    },
    {
     "name": "stdout",
     "output_type": "stream",
     "text": [
      "55/55 [==============================] - 26s 462ms/step - loss: 0.2800 - accuracy: 0.9032\n",
      "comm_round: 16 | global_acc: 90.321% | global_loss: 0.2800103724002838\n"
     ]
    },
    {
     "name": "stderr",
     "output_type": "stream",
     "text": [
      "\r",
      "Progress Bar:   0%|                                                                              | 0/3 [00:00<?, ?it/s]"
     ]
    },
    {
     "name": "stdout",
     "output_type": "stream",
     "text": [
      "Epoch 1/2\n",
      "115/115 - 55s - loss: 0.5654 - accuracy: 0.7958 - 55s/epoch - 477ms/step\n",
      "Epoch 2/2\n",
      "115/115 - 50s - loss: 0.2324 - accuracy: 0.9142 - 50s/epoch - 437ms/step\n"
     ]
    },
    {
     "name": "stderr",
     "output_type": "stream",
     "text": [
      "\r",
      "Progress Bar:  33%|███████████████████████                                              | 1/3 [01:51<03:42, 111.25s/it]"
     ]
    },
    {
     "name": "stdout",
     "output_type": "stream",
     "text": [
      "Epoch 1/2\n",
      "55/55 - 29s - loss: 0.6961 - accuracy: 0.7431 - 29s/epoch - 530ms/step\n",
      "Epoch 2/2\n",
      "55/55 - 24s - loss: 0.2507 - accuracy: 0.9107 - 24s/epoch - 434ms/step\n"
     ]
    },
    {
     "name": "stderr",
     "output_type": "stream",
     "text": [
      "\r",
      "Progress Bar:  67%|██████████████████████████████████████████████▋                       | 2/3 [02:49<01:20, 80.11s/it]"
     ]
    },
    {
     "name": "stdout",
     "output_type": "stream",
     "text": [
      "Epoch 1/2\n",
      "61/61 - 33s - loss: 0.4480 - accuracy: 0.8434 - 33s/epoch - 544ms/step\n",
      "Epoch 2/2\n",
      "61/61 - 30s - loss: 0.1863 - accuracy: 0.9369 - 30s/epoch - 484ms/step\n"
     ]
    },
    {
     "name": "stderr",
     "output_type": "stream",
     "text": [
      "Progress Bar: 100%|██████████████████████████████████████████████████████████████████████| 3/3 [03:58<00:00, 79.38s/it]\n"
     ]
    },
    {
     "name": "stdout",
     "output_type": "stream",
     "text": [
      "55/55 [==============================] - 24s 404ms/step - loss: 0.2797 - accuracy: 0.9044\n",
      "comm_round: 17 | global_acc: 90.435% | global_loss: 0.27965402603149414\n"
     ]
    },
    {
     "name": "stderr",
     "output_type": "stream",
     "text": [
      "\r",
      "Progress Bar:   0%|                                                                              | 0/3 [00:00<?, ?it/s]"
     ]
    },
    {
     "name": "stdout",
     "output_type": "stream",
     "text": [
      "Epoch 1/2\n",
      "115/115 - 58s - loss: 0.5443 - accuracy: 0.8024 - 58s/epoch - 508ms/step\n",
      "Epoch 2/2\n",
      "115/115 - 50s - loss: 0.2358 - accuracy: 0.9139 - 50s/epoch - 435ms/step\n"
     ]
    },
    {
     "name": "stderr",
     "output_type": "stream",
     "text": [
      "\r",
      "Progress Bar:  33%|███████████████████████                                              | 1/3 [01:56<03:53, 116.53s/it]"
     ]
    },
    {
     "name": "stdout",
     "output_type": "stream",
     "text": [
      "Epoch 1/2\n",
      "55/55 - 29s - loss: 0.6625 - accuracy: 0.7552 - 29s/epoch - 526ms/step\n",
      "Epoch 2/2\n",
      "55/55 - 24s - loss: 0.2674 - accuracy: 0.9032 - 24s/epoch - 436ms/step\n"
     ]
    },
    {
     "name": "stderr",
     "output_type": "stream",
     "text": [
      "\r",
      "Progress Bar:  67%|██████████████████████████████████████████████▋                       | 2/3 [02:54<01:22, 82.19s/it]"
     ]
    },
    {
     "name": "stdout",
     "output_type": "stream",
     "text": [
      "Epoch 1/2\n",
      "61/61 - 32s - loss: 0.4467 - accuracy: 0.8552 - 32s/epoch - 526ms/step\n",
      "Epoch 2/2\n",
      "61/61 - 27s - loss: 0.1628 - accuracy: 0.9487 - 27s/epoch - 450ms/step\n"
     ]
    },
    {
     "name": "stderr",
     "output_type": "stream",
     "text": [
      "Progress Bar: 100%|██████████████████████████████████████████████████████████████████████| 3/3 [03:59<00:00, 79.87s/it]\n"
     ]
    },
    {
     "name": "stdout",
     "output_type": "stream",
     "text": [
      "55/55 [==============================] - 23s 399ms/step - loss: 0.2796 - accuracy: 0.9026\n",
      "comm_round: 18 | global_acc: 90.263% | global_loss: 0.2795882225036621\n"
     ]
    },
    {
     "name": "stderr",
     "output_type": "stream",
     "text": [
      "\r",
      "Progress Bar:   0%|                                                                              | 0/3 [00:00<?, ?it/s]"
     ]
    },
    {
     "name": "stdout",
     "output_type": "stream",
     "text": [
      "Epoch 1/2\n",
      "115/115 - 67s - loss: 0.5654 - accuracy: 0.8049 - 67s/epoch - 580ms/step\n",
      "Epoch 2/2\n",
      "115/115 - 51s - loss: 0.2432 - accuracy: 0.9115 - 51s/epoch - 441ms/step\n"
     ]
    },
    {
     "name": "stderr",
     "output_type": "stream",
     "text": [
      "\r",
      "Progress Bar:  33%|███████████████████████                                              | 1/3 [02:03<04:06, 123.09s/it]"
     ]
    },
    {
     "name": "stdout",
     "output_type": "stream",
     "text": [
      "Epoch 1/2\n",
      "55/55 - 29s - loss: 0.6614 - accuracy: 0.7615 - 29s/epoch - 520ms/step\n",
      "Epoch 2/2\n",
      "55/55 - 25s - loss: 0.2827 - accuracy: 0.8969 - 25s/epoch - 447ms/step\n"
     ]
    },
    {
     "name": "stderr",
     "output_type": "stream",
     "text": [
      "\r",
      "Progress Bar:  67%|██████████████████████████████████████████████▋                       | 2/3 [03:01<01:25, 85.19s/it]"
     ]
    },
    {
     "name": "stdout",
     "output_type": "stream",
     "text": [
      "Epoch 1/2\n",
      "61/61 - 32s - loss: 0.4802 - accuracy: 0.8429 - 32s/epoch - 523ms/step\n",
      "Epoch 2/2\n",
      "61/61 - 27s - loss: 0.1663 - accuracy: 0.9430 - 27s/epoch - 441ms/step\n"
     ]
    },
    {
     "name": "stderr",
     "output_type": "stream",
     "text": [
      "Progress Bar: 100%|██████████████████████████████████████████████████████████████████████| 3/3 [04:05<00:00, 81.91s/it]\n"
     ]
    },
    {
     "name": "stdout",
     "output_type": "stream",
     "text": [
      "55/55 [==============================] - 41s 710ms/step - loss: 0.2794 - accuracy: 0.9038\n",
      "comm_round: 19 | global_acc: 90.378% | global_loss: 0.27943214774131775\n"
     ]
    },
    {
     "name": "stderr",
     "output_type": "stream",
     "text": [
      "\r",
      "Progress Bar:   0%|                                                                              | 0/3 [00:00<?, ?it/s]"
     ]
    },
    {
     "name": "stdout",
     "output_type": "stream",
     "text": [
      "Epoch 1/2\n",
      "115/115 - 81s - loss: 0.5470 - accuracy: 0.8030 - 81s/epoch - 701ms/step\n",
      "Epoch 2/2\n",
      "115/115 - 66s - loss: 0.2348 - accuracy: 0.9109 - 66s/epoch - 576ms/step\n"
     ]
    },
    {
     "name": "stderr",
     "output_type": "stream",
     "text": [
      "\r",
      "Progress Bar:  33%|███████████████████████                                              | 1/3 [02:39<05:19, 159.55s/it]"
     ]
    },
    {
     "name": "stdout",
     "output_type": "stream",
     "text": [
      "Epoch 1/2\n",
      "55/55 - 48s - loss: 0.7176 - accuracy: 0.7310 - 48s/epoch - 864ms/step\n",
      "Epoch 2/2\n",
      "55/55 - 34s - loss: 0.2566 - accuracy: 0.9090 - 34s/epoch - 611ms/step\n"
     ]
    },
    {
     "name": "stderr",
     "output_type": "stream",
     "text": [
      "\r",
      "Progress Bar:  67%|██████████████████████████████████████████████                       | 2/3 [04:10<01:59, 119.31s/it]"
     ]
    },
    {
     "name": "stdout",
     "output_type": "stream",
     "text": [
      "Epoch 1/2\n",
      "61/61 - 48s - loss: 0.4904 - accuracy: 0.8403 - 48s/epoch - 794ms/step\n",
      "Epoch 2/2\n",
      "61/61 - 37s - loss: 0.1508 - accuracy: 0.9507 - 37s/epoch - 607ms/step\n"
     ]
    },
    {
     "name": "stderr",
     "output_type": "stream",
     "text": [
      "Progress Bar: 100%|█████████████████████████████████████████████████████████████████████| 3/3 [05:45<00:00, 115.01s/it]\n"
     ]
    },
    {
     "name": "stdout",
     "output_type": "stream",
     "text": [
      "55/55 [==============================] - 36s 622ms/step - loss: 0.2816 - accuracy: 0.9003\n",
      "comm_round: 20 | global_acc: 90.034% | global_loss: 0.28160688281059265\n"
     ]
    },
    {
     "name": "stderr",
     "output_type": "stream",
     "text": [
      "\r",
      "Progress Bar:   0%|                                                                              | 0/3 [00:00<?, ?it/s]"
     ]
    },
    {
     "name": "stdout",
     "output_type": "stream",
     "text": [
      "Epoch 1/2\n",
      "115/115 - 81s - loss: 0.5445 - accuracy: 0.8065 - 81s/epoch - 704ms/step\n",
      "Epoch 2/2\n",
      "115/115 - 73s - loss: 0.2335 - accuracy: 0.9107 - 73s/epoch - 637ms/step\n"
     ]
    },
    {
     "name": "stderr",
     "output_type": "stream",
     "text": [
      "\r",
      "Progress Bar:  33%|███████████████████████                                              | 1/3 [02:43<05:27, 163.75s/it]"
     ]
    },
    {
     "name": "stdout",
     "output_type": "stream",
     "text": [
      "Epoch 1/2\n",
      "55/55 - 45s - loss: 0.7336 - accuracy: 0.7304 - 45s/epoch - 814ms/step\n",
      "Epoch 2/2\n",
      "55/55 - 34s - loss: 0.2888 - accuracy: 0.9003 - 34s/epoch - 614ms/step\n"
     ]
    },
    {
     "name": "stderr",
     "output_type": "stream",
     "text": [
      "\r",
      "Progress Bar:  67%|██████████████████████████████████████████████                       | 2/3 [04:11<01:58, 118.83s/it]"
     ]
    },
    {
     "name": "stdout",
     "output_type": "stream",
     "text": [
      "Epoch 1/2\n",
      "61/61 - 48s - loss: 0.4728 - accuracy: 0.8368 - 48s/epoch - 790ms/step\n",
      "Epoch 2/2\n",
      "61/61 - 37s - loss: 0.1708 - accuracy: 0.9374 - 37s/epoch - 604ms/step\n"
     ]
    },
    {
     "name": "stderr",
     "output_type": "stream",
     "text": [
      "Progress Bar: 100%|█████████████████████████████████████████████████████████████████████| 3/3 [05:44<00:00, 114.96s/it]\n"
     ]
    },
    {
     "name": "stdout",
     "output_type": "stream",
     "text": [
      "55/55 [==============================] - 36s 633ms/step - loss: 0.2835 - accuracy: 0.8998\n",
      "comm_round: 21 | global_acc: 89.977% | global_loss: 0.2835467457771301\n"
     ]
    },
    {
     "name": "stderr",
     "output_type": "stream",
     "text": [
      "\r",
      "Progress Bar:   0%|                                                                              | 0/3 [00:00<?, ?it/s]"
     ]
    },
    {
     "name": "stdout",
     "output_type": "stream",
     "text": [
      "Epoch 1/2\n",
      "115/115 - 82s - loss: 0.5624 - accuracy: 0.8041 - 82s/epoch - 710ms/step\n",
      "Epoch 2/2\n",
      "115/115 - 68s - loss: 0.2744 - accuracy: 0.9002 - 68s/epoch - 595ms/step\n"
     ]
    },
    {
     "name": "stderr",
     "output_type": "stream",
     "text": [
      "\r",
      "Progress Bar:  33%|███████████████████████                                              | 1/3 [02:41<05:23, 161.65s/it]"
     ]
    },
    {
     "name": "stdout",
     "output_type": "stream",
     "text": [
      "Epoch 1/2\n",
      "55/55 - 46s - loss: 0.7096 - accuracy: 0.7385 - 46s/epoch - 834ms/step\n",
      "Epoch 2/2\n",
      "55/55 - 33s - loss: 0.2592 - accuracy: 0.9078 - 33s/epoch - 605ms/step\n"
     ]
    },
    {
     "name": "stderr",
     "output_type": "stream",
     "text": [
      "\r",
      "Progress Bar:  67%|██████████████████████████████████████████████                       | 2/3 [04:12<01:59, 119.71s/it]"
     ]
    },
    {
     "name": "stdout",
     "output_type": "stream",
     "text": [
      "Epoch 1/2\n",
      "61/61 - 51s - loss: 0.4789 - accuracy: 0.8378 - 51s/epoch - 835ms/step\n",
      "Epoch 2/2\n",
      "61/61 - 38s - loss: 0.1705 - accuracy: 0.9440 - 38s/epoch - 625ms/step\n"
     ]
    },
    {
     "name": "stderr",
     "output_type": "stream",
     "text": [
      "Progress Bar: 100%|█████████████████████████████████████████████████████████████████████| 3/3 [05:52<00:00, 117.51s/it]\n"
     ]
    },
    {
     "name": "stdout",
     "output_type": "stream",
     "text": [
      "55/55 [==============================] - 56s 1s/step - loss: 0.2826 - accuracy: 0.9015\n",
      "comm_round: 22 | global_acc: 90.149% | global_loss: 0.28262704610824585\n"
     ]
    },
    {
     "name": "stderr",
     "output_type": "stream",
     "text": [
      "\r",
      "Progress Bar:   0%|                                                                              | 0/3 [00:00<?, ?it/s]"
     ]
    },
    {
     "name": "stdout",
     "output_type": "stream",
     "text": [
      "Epoch 1/2\n",
      "115/115 - 84s - loss: 0.5538 - accuracy: 0.8038 - 84s/epoch - 727ms/step\n",
      "Epoch 2/2\n",
      "115/115 - 69s - loss: 0.2336 - accuracy: 0.9118 - 69s/epoch - 599ms/step\n"
     ]
    },
    {
     "name": "stderr",
     "output_type": "stream",
     "text": [
      "\r",
      "Progress Bar:  33%|███████████████████████                                              | 1/3 [02:41<05:22, 161.29s/it]"
     ]
    },
    {
     "name": "stdout",
     "output_type": "stream",
     "text": [
      "Epoch 1/2\n",
      "55/55 - 47s - loss: 0.7261 - accuracy: 0.7304 - 47s/epoch - 858ms/step\n",
      "Epoch 2/2\n",
      "55/55 - 33s - loss: 0.2732 - accuracy: 0.9061 - 33s/epoch - 604ms/step\n"
     ]
    },
    {
     "name": "stderr",
     "output_type": "stream",
     "text": [
      "\r",
      "Progress Bar:  67%|██████████████████████████████████████████████                       | 2/3 [04:10<01:58, 119.00s/it]"
     ]
    },
    {
     "name": "stdout",
     "output_type": "stream",
     "text": [
      "Epoch 1/2\n",
      "61/61 - 50s - loss: 0.4574 - accuracy: 0.8450 - 50s/epoch - 821ms/step\n",
      "Epoch 2/2\n",
      "61/61 - 38s - loss: 0.1523 - accuracy: 0.9528 - 38s/epoch - 619ms/step\n"
     ]
    },
    {
     "name": "stderr",
     "output_type": "stream",
     "text": [
      "Progress Bar: 100%|█████████████████████████████████████████████████████████████████████| 3/3 [05:52<00:00, 117.41s/it]\n"
     ]
    },
    {
     "name": "stdout",
     "output_type": "stream",
     "text": [
      "55/55 [==============================] - 36s 623ms/step - loss: 0.2847 - accuracy: 0.8992\n",
      "comm_round: 23 | global_acc: 89.920% | global_loss: 0.28474733233451843\n"
     ]
    },
    {
     "name": "stderr",
     "output_type": "stream",
     "text": [
      "\r",
      "Progress Bar:   0%|                                                                              | 0/3 [00:00<?, ?it/s]"
     ]
    },
    {
     "name": "stdout",
     "output_type": "stream",
     "text": [
      "Epoch 1/2\n",
      "115/115 - 80s - loss: 0.5323 - accuracy: 0.8041 - 80s/epoch - 697ms/step\n",
      "Epoch 2/2\n",
      "115/115 - 68s - loss: 0.2171 - accuracy: 0.9208 - 68s/epoch - 587ms/step\n"
     ]
    },
    {
     "name": "stderr",
     "output_type": "stream",
     "text": [
      "\r",
      "Progress Bar:  33%|███████████████████████                                              | 1/3 [02:40<05:20, 160.18s/it]"
     ]
    },
    {
     "name": "stdout",
     "output_type": "stream",
     "text": [
      "Epoch 1/2\n",
      "55/55 - 45s - loss: 0.7386 - accuracy: 0.7183 - 45s/epoch - 827ms/step\n",
      "Epoch 2/2\n",
      "55/55 - 34s - loss: 0.2559 - accuracy: 0.9038 - 34s/epoch - 617ms/step\n"
     ]
    },
    {
     "name": "stderr",
     "output_type": "stream",
     "text": [
      "\r",
      "Progress Bar:  67%|██████████████████████████████████████████████                       | 2/3 [04:08<01:57, 117.81s/it]"
     ]
    },
    {
     "name": "stdout",
     "output_type": "stream",
     "text": [
      "Epoch 1/2\n",
      "61/61 - 51s - loss: 0.4654 - accuracy: 0.8486 - 51s/epoch - 839ms/step\n",
      "Epoch 2/2\n",
      "61/61 - 37s - loss: 0.1554 - accuracy: 0.9461 - 37s/epoch - 603ms/step\n"
     ]
    },
    {
     "name": "stderr",
     "output_type": "stream",
     "text": [
      "Progress Bar: 100%|█████████████████████████████████████████████████████████████████████| 3/3 [05:51<00:00, 117.18s/it]\n"
     ]
    },
    {
     "name": "stdout",
     "output_type": "stream",
     "text": [
      "55/55 [==============================] - 35s 611ms/step - loss: 0.2845 - accuracy: 0.9015\n",
      "comm_round: 24 | global_acc: 90.149% | global_loss: 0.28454190492630005\n"
     ]
    },
    {
     "name": "stderr",
     "output_type": "stream",
     "text": [
      "\r",
      "Progress Bar:   0%|                                                                              | 0/3 [00:00<?, ?it/s]"
     ]
    },
    {
     "name": "stdout",
     "output_type": "stream",
     "text": [
      "Epoch 1/2\n",
      "115/115 - 87s - loss: 0.5630 - accuracy: 0.7964 - 87s/epoch - 755ms/step\n",
      "Epoch 2/2\n",
      "115/115 - 71s - loss: 0.2393 - accuracy: 0.9079 - 71s/epoch - 619ms/step\n"
     ]
    },
    {
     "name": "stderr",
     "output_type": "stream",
     "text": [
      "\r",
      "Progress Bar:  33%|███████████████████████                                              | 1/3 [02:49<05:38, 169.45s/it]"
     ]
    },
    {
     "name": "stdout",
     "output_type": "stream",
     "text": [
      "Epoch 1/2\n",
      "55/55 - 52s - loss: 0.6870 - accuracy: 0.7483 - 52s/epoch - 945ms/step\n",
      "Epoch 2/2\n",
      "55/55 - 34s - loss: 0.2447 - accuracy: 0.9130 - 34s/epoch - 623ms/step\n"
     ]
    },
    {
     "name": "stderr",
     "output_type": "stream",
     "text": [
      "\r",
      "Progress Bar:  67%|██████████████████████████████████████████████                       | 2/3 [04:27<02:07, 127.37s/it]"
     ]
    },
    {
     "name": "stdout",
     "output_type": "stream",
     "text": [
      "Epoch 1/2\n",
      "61/61 - 51s - loss: 0.4496 - accuracy: 0.8522 - 51s/epoch - 837ms/step\n",
      "Epoch 2/2\n",
      "61/61 - 38s - loss: 0.1492 - accuracy: 0.9502 - 38s/epoch - 616ms/step\n"
     ]
    },
    {
     "name": "stderr",
     "output_type": "stream",
     "text": [
      "Progress Bar: 100%|█████████████████████████████████████████████████████████████████████| 3/3 [06:06<00:00, 122.21s/it]\n"
     ]
    },
    {
     "name": "stdout",
     "output_type": "stream",
     "text": [
      "55/55 [==============================] - 38s 658ms/step - loss: 0.2856 - accuracy: 0.9009\n",
      "comm_round: 25 | global_acc: 90.092% | global_loss: 0.28562110662460327\n"
     ]
    },
    {
     "name": "stderr",
     "output_type": "stream",
     "text": [
      "\r",
      "Progress Bar:   0%|                                                                              | 0/3 [00:00<?, ?it/s]"
     ]
    },
    {
     "name": "stdout",
     "output_type": "stream",
     "text": [
      "Epoch 1/2\n",
      "115/115 - 88s - loss: 0.5319 - accuracy: 0.8115 - 88s/epoch - 762ms/step\n",
      "Epoch 2/2\n",
      "115/115 - 72s - loss: 0.2386 - accuracy: 0.9115 - 72s/epoch - 628ms/step\n"
     ]
    },
    {
     "name": "stderr",
     "output_type": "stream",
     "text": [
      "\r",
      "Progress Bar:  33%|███████████████████████                                              | 1/3 [02:50<05:41, 170.81s/it]"
     ]
    },
    {
     "name": "stdout",
     "output_type": "stream",
     "text": [
      "Epoch 1/2\n",
      "55/55 - 50s - loss: 0.7167 - accuracy: 0.7494 - 50s/epoch - 911ms/step\n",
      "Epoch 2/2\n",
      "55/55 - 36s - loss: 0.2679 - accuracy: 0.9026 - 36s/epoch - 654ms/step\n"
     ]
    },
    {
     "name": "stderr",
     "output_type": "stream",
     "text": [
      "\r",
      "Progress Bar:  67%|██████████████████████████████████████████████                       | 2/3 [04:32<02:10, 130.24s/it]"
     ]
    },
    {
     "name": "stdout",
     "output_type": "stream",
     "text": [
      "Epoch 1/2\n",
      "61/61 - 52s - loss: 0.4778 - accuracy: 0.8434 - 52s/epoch - 860ms/step\n",
      "Epoch 2/2\n",
      "61/61 - 39s - loss: 0.1487 - accuracy: 0.9440 - 39s/epoch - 634ms/step\n"
     ]
    },
    {
     "name": "stderr",
     "output_type": "stream",
     "text": [
      "Progress Bar: 100%|█████████████████████████████████████████████████████████████████████| 3/3 [06:15<00:00, 125.29s/it]\n"
     ]
    },
    {
     "name": "stdout",
     "output_type": "stream",
     "text": [
      "55/55 [==============================] - 39s 676ms/step - loss: 0.2856 - accuracy: 0.9003\n",
      "comm_round: 26 | global_acc: 90.034% | global_loss: 0.28561004996299744\n"
     ]
    },
    {
     "name": "stderr",
     "output_type": "stream",
     "text": [
      "\r",
      "Progress Bar:   0%|                                                                              | 0/3 [00:00<?, ?it/s]"
     ]
    },
    {
     "name": "stdout",
     "output_type": "stream",
     "text": [
      "Epoch 1/2\n",
      "115/115 - 125s - loss: 0.5376 - accuracy: 0.8071 - 125s/epoch - 1s/step\n",
      "Epoch 2/2\n",
      "115/115 - 75s - loss: 0.2578 - accuracy: 0.9038 - 75s/epoch - 650ms/step\n"
     ]
    },
    {
     "name": "stderr",
     "output_type": "stream",
     "text": [
      "\r",
      "Progress Bar:  33%|███████████████████████                                              | 1/3 [03:33<07:07, 213.89s/it]"
     ]
    },
    {
     "name": "stdout",
     "output_type": "stream",
     "text": [
      "Epoch 1/2\n",
      "55/55 - 48s - loss: 0.6849 - accuracy: 0.7621 - 48s/epoch - 873ms/step\n",
      "Epoch 2/2\n",
      "55/55 - 34s - loss: 0.2411 - accuracy: 0.9073 - 34s/epoch - 624ms/step\n"
     ]
    },
    {
     "name": "stderr",
     "output_type": "stream",
     "text": [
      "\r",
      "Progress Bar:  67%|██████████████████████████████████████████████                       | 2/3 [05:07<02:23, 143.36s/it]"
     ]
    },
    {
     "name": "stdout",
     "output_type": "stream",
     "text": [
      "Epoch 1/2\n",
      "61/61 - 50s - loss: 0.4706 - accuracy: 0.8424 - 50s/epoch - 820ms/step\n",
      "Epoch 2/2\n",
      "61/61 - 39s - loss: 0.1578 - accuracy: 0.9492 - 39s/epoch - 631ms/step\n"
     ]
    },
    {
     "name": "stderr",
     "output_type": "stream",
     "text": [
      "Progress Bar: 100%|█████████████████████████████████████████████████████████████████████| 3/3 [06:47<00:00, 135.80s/it]\n"
     ]
    },
    {
     "name": "stdout",
     "output_type": "stream",
     "text": [
      "55/55 [==============================] - 36s 630ms/step - loss: 0.2865 - accuracy: 0.8992\n",
      "comm_round: 27 | global_acc: 89.920% | global_loss: 0.2865167558193207\n"
     ]
    },
    {
     "name": "stderr",
     "output_type": "stream",
     "text": [
      "\r",
      "Progress Bar:   0%|                                                                              | 0/3 [00:00<?, ?it/s]"
     ]
    },
    {
     "name": "stdout",
     "output_type": "stream",
     "text": [
      "Epoch 1/2\n",
      "115/115 - 90s - loss: 0.5322 - accuracy: 0.8126 - 90s/epoch - 784ms/step\n",
      "Epoch 2/2\n",
      "115/115 - 73s - loss: 0.2379 - accuracy: 0.9148 - 73s/epoch - 636ms/step\n"
     ]
    },
    {
     "name": "stderr",
     "output_type": "stream",
     "text": [
      "\r",
      "Progress Bar:  33%|███████████████████████                                              | 1/3 [02:52<05:44, 172.13s/it]"
     ]
    },
    {
     "name": "stdout",
     "output_type": "stream",
     "text": [
      "Epoch 1/2\n",
      "55/55 - 49s - loss: 0.7032 - accuracy: 0.7552 - 49s/epoch - 889ms/step\n",
      "Epoch 2/2\n",
      "55/55 - 35s - loss: 0.2656 - accuracy: 0.9032 - 35s/epoch - 630ms/step\n"
     ]
    },
    {
     "name": "stderr",
     "output_type": "stream",
     "text": [
      "\r",
      "Progress Bar:  67%|██████████████████████████████████████████████                       | 2/3 [04:24<02:04, 124.99s/it]"
     ]
    },
    {
     "name": "stdout",
     "output_type": "stream",
     "text": [
      "Epoch 1/2\n",
      "61/61 - 51s - loss: 0.4693 - accuracy: 0.8522 - 51s/epoch - 831ms/step\n",
      "Epoch 2/2\n",
      "61/61 - 37s - loss: 0.1605 - accuracy: 0.9476 - 37s/epoch - 612ms/step\n"
     ]
    },
    {
     "name": "stderr",
     "output_type": "stream",
     "text": [
      "Progress Bar: 100%|█████████████████████████████████████████████████████████████████████| 3/3 [06:03<00:00, 121.18s/it]\n"
     ]
    },
    {
     "name": "stdout",
     "output_type": "stream",
     "text": [
      "55/55 [==============================] - 37s 639ms/step - loss: 0.2871 - accuracy: 0.8992\n",
      "comm_round: 28 | global_acc: 89.920% | global_loss: 0.28714415431022644\n"
     ]
    },
    {
     "name": "stderr",
     "output_type": "stream",
     "text": [
      "\r",
      "Progress Bar:   0%|                                                                              | 0/3 [00:00<?, ?it/s]"
     ]
    },
    {
     "name": "stdout",
     "output_type": "stream",
     "text": [
      "Epoch 1/2\n",
      "115/115 - 91s - loss: 0.5545 - accuracy: 0.8010 - 91s/epoch - 795ms/step\n",
      "Epoch 2/2\n",
      "115/115 - 81s - loss: 0.2209 - accuracy: 0.9156 - 81s/epoch - 704ms/step\n"
     ]
    },
    {
     "name": "stderr",
     "output_type": "stream",
     "text": [
      "\r",
      "Progress Bar:  33%|███████████████████████                                              | 1/3 [03:05<06:11, 185.99s/it]"
     ]
    },
    {
     "name": "stdout",
     "output_type": "stream",
     "text": [
      "Epoch 1/2\n",
      "55/55 - 51s - loss: 0.7604 - accuracy: 0.7270 - 51s/epoch - 931ms/step\n",
      "Epoch 2/2\n",
      "55/55 - 38s - loss: 0.2631 - accuracy: 0.9038 - 38s/epoch - 683ms/step\n"
     ]
    },
    {
     "name": "stderr",
     "output_type": "stream",
     "text": [
      "\r",
      "Progress Bar:  67%|██████████████████████████████████████████████                       | 2/3 [04:48<02:16, 136.89s/it]"
     ]
    },
    {
     "name": "stdout",
     "output_type": "stream",
     "text": [
      "Epoch 1/2\n",
      "61/61 - 56s - loss: 0.4640 - accuracy: 0.8434 - 56s/epoch - 920ms/step\n",
      "Epoch 2/2\n",
      "61/61 - 41s - loss: 0.1666 - accuracy: 0.9389 - 41s/epoch - 666ms/step\n"
     ]
    },
    {
     "name": "stderr",
     "output_type": "stream",
     "text": [
      "Progress Bar: 100%|█████████████████████████████████████████████████████████████████████| 3/3 [06:38<00:00, 132.91s/it]\n"
     ]
    },
    {
     "name": "stdout",
     "output_type": "stream",
     "text": [
      "55/55 [==============================] - 39s 681ms/step - loss: 0.2881 - accuracy: 0.8998\n",
      "comm_round: 29 | global_acc: 89.977% | global_loss: 0.2880716621875763\n"
     ]
    },
    {
     "name": "stderr",
     "output_type": "stream",
     "text": [
      "\r",
      "Progress Bar:   0%|                                                                              | 0/3 [00:00<?, ?it/s]"
     ]
    },
    {
     "name": "stdout",
     "output_type": "stream",
     "text": [
      "Epoch 1/2\n",
      "115/115 - 88s - loss: 0.5697 - accuracy: 0.7931 - 88s/epoch - 764ms/step\n",
      "Epoch 2/2\n",
      "115/115 - 73s - loss: 0.2323 - accuracy: 0.9175 - 73s/epoch - 634ms/step\n"
     ]
    },
    {
     "name": "stderr",
     "output_type": "stream",
     "text": [
      "\r",
      "Progress Bar:  33%|███████████████████████                                              | 1/3 [02:53<05:46, 173.45s/it]"
     ]
    },
    {
     "name": "stdout",
     "output_type": "stream",
     "text": [
      "Epoch 1/2\n",
      "55/55 - 48s - loss: 0.7258 - accuracy: 0.7252 - 48s/epoch - 879ms/step\n",
      "Epoch 2/2\n",
      "55/55 - 34s - loss: 0.2393 - accuracy: 0.9136 - 34s/epoch - 617ms/step\n"
     ]
    },
    {
     "name": "stderr",
     "output_type": "stream",
     "text": [
      "\r",
      "Progress Bar:  67%|██████████████████████████████████████████████                       | 2/3 [04:26<02:06, 126.25s/it]"
     ]
    },
    {
     "name": "stdout",
     "output_type": "stream",
     "text": [
      "Epoch 1/2\n",
      "61/61 - 55s - loss: 0.4437 - accuracy: 0.8506 - 55s/epoch - 906ms/step\n",
      "Epoch 2/2\n",
      "61/61 - 39s - loss: 0.1536 - accuracy: 0.9497 - 39s/epoch - 640ms/step\n"
     ]
    },
    {
     "name": "stderr",
     "output_type": "stream",
     "text": [
      "Progress Bar: 100%|█████████████████████████████████████████████████████████████████████| 3/3 [06:13<00:00, 124.57s/it]\n"
     ]
    },
    {
     "ename": "KeyboardInterrupt",
     "evalue": "",
     "output_type": "error",
     "traceback": [
      "\u001b[1;31m---------------------------------------------------------------------------\u001b[0m",
      "\u001b[1;31mKeyboardInterrupt\u001b[0m                         Traceback (most recent call last)",
      "Cell \u001b[1;32mIn[106], line 41\u001b[0m\n\u001b[0;32m     38\u001b[0m     K\u001b[38;5;241m.\u001b[39mclear_session()\n\u001b[0;32m     40\u001b[0m \u001b[38;5;66;03m# Calculate the average weights across all clients for each layer\u001b[39;00m\n\u001b[1;32m---> 41\u001b[0m average_weights \u001b[38;5;241m=\u001b[39m avg_weights(local_weight_list)\n\u001b[0;32m     43\u001b[0m \u001b[38;5;66;03m# Update the global model with the average weights\u001b[39;00m\n\u001b[0;32m     44\u001b[0m global_model\u001b[38;5;241m.\u001b[39mset_weights(average_weights)\n",
      "Cell \u001b[1;32mIn[102], line 30\u001b[0m, in \u001b[0;36mavg_weights\u001b[1;34m(scaled_weight_list)\u001b[0m\n\u001b[0;32m     28\u001b[0m \u001b[38;5;66;03m# Get the sum of gradients across all client gradients\u001b[39;00m\n\u001b[0;32m     29\u001b[0m \u001b[38;5;28;01mfor\u001b[39;00m grad_list_tuple \u001b[38;5;129;01min\u001b[39;00m \u001b[38;5;28mzip\u001b[39m(\u001b[38;5;241m*\u001b[39mscaled_weight_list):\n\u001b[1;32m---> 30\u001b[0m     layer_mean \u001b[38;5;241m=\u001b[39m tf\u001b[38;5;241m.\u001b[39mmath\u001b[38;5;241m.\u001b[39mreduce_sum(grad_list_tuple, axis\u001b[38;5;241m=\u001b[39m\u001b[38;5;241m0\u001b[39m) \u001b[38;5;241m/\u001b[39m num_clients\n\u001b[0;32m     31\u001b[0m     avg_grad\u001b[38;5;241m.\u001b[39mappend(layer_mean)\n\u001b[0;32m     33\u001b[0m \u001b[38;5;28;01mreturn\u001b[39;00m avg_grad\n",
      "File \u001b[1;32mC:\\ProgramData\\anaconda3\\Lib\\site-packages\\tensorflow\\python\\ops\\weak_tensor_ops.py:88\u001b[0m, in \u001b[0;36mweak_tensor_unary_op_wrapper.<locals>.wrapper\u001b[1;34m(*args, **kwargs)\u001b[0m\n\u001b[0;32m     86\u001b[0m \u001b[38;5;28;01mdef\u001b[39;00m \u001b[38;5;21mwrapper\u001b[39m(\u001b[38;5;241m*\u001b[39margs, \u001b[38;5;241m*\u001b[39m\u001b[38;5;241m*\u001b[39mkwargs):\n\u001b[0;32m     87\u001b[0m   \u001b[38;5;28;01mif\u001b[39;00m \u001b[38;5;129;01mnot\u001b[39;00m ops\u001b[38;5;241m.\u001b[39mis_auto_dtype_conversion_enabled():\n\u001b[1;32m---> 88\u001b[0m     \u001b[38;5;28;01mreturn\u001b[39;00m op(\u001b[38;5;241m*\u001b[39margs, \u001b[38;5;241m*\u001b[39m\u001b[38;5;241m*\u001b[39mkwargs)\n\u001b[0;32m     89\u001b[0m   bound_arguments \u001b[38;5;241m=\u001b[39m signature\u001b[38;5;241m.\u001b[39mbind(\u001b[38;5;241m*\u001b[39margs, \u001b[38;5;241m*\u001b[39m\u001b[38;5;241m*\u001b[39mkwargs)\n\u001b[0;32m     90\u001b[0m   bound_arguments\u001b[38;5;241m.\u001b[39mapply_defaults()\n",
      "File \u001b[1;32mC:\\ProgramData\\anaconda3\\Lib\\site-packages\\tensorflow\\python\\util\\traceback_utils.py:150\u001b[0m, in \u001b[0;36mfilter_traceback.<locals>.error_handler\u001b[1;34m(*args, **kwargs)\u001b[0m\n\u001b[0;32m    148\u001b[0m filtered_tb \u001b[38;5;241m=\u001b[39m \u001b[38;5;28;01mNone\u001b[39;00m\n\u001b[0;32m    149\u001b[0m \u001b[38;5;28;01mtry\u001b[39;00m:\n\u001b[1;32m--> 150\u001b[0m   \u001b[38;5;28;01mreturn\u001b[39;00m fn(\u001b[38;5;241m*\u001b[39margs, \u001b[38;5;241m*\u001b[39m\u001b[38;5;241m*\u001b[39mkwargs)\n\u001b[0;32m    151\u001b[0m \u001b[38;5;28;01mexcept\u001b[39;00m \u001b[38;5;167;01mException\u001b[39;00m \u001b[38;5;28;01mas\u001b[39;00m e:\n\u001b[0;32m    152\u001b[0m   filtered_tb \u001b[38;5;241m=\u001b[39m _process_traceback_frames(e\u001b[38;5;241m.\u001b[39m__traceback__)\n",
      "File \u001b[1;32mC:\\ProgramData\\anaconda3\\Lib\\site-packages\\tensorflow\\python\\util\\dispatch.py:1260\u001b[0m, in \u001b[0;36madd_dispatch_support.<locals>.decorator.<locals>.op_dispatch_handler\u001b[1;34m(*args, **kwargs)\u001b[0m\n\u001b[0;32m   1258\u001b[0m \u001b[38;5;66;03m# Fallback dispatch system (dispatch v1):\u001b[39;00m\n\u001b[0;32m   1259\u001b[0m \u001b[38;5;28;01mtry\u001b[39;00m:\n\u001b[1;32m-> 1260\u001b[0m   \u001b[38;5;28;01mreturn\u001b[39;00m dispatch_target(\u001b[38;5;241m*\u001b[39margs, \u001b[38;5;241m*\u001b[39m\u001b[38;5;241m*\u001b[39mkwargs)\n\u001b[0;32m   1261\u001b[0m \u001b[38;5;28;01mexcept\u001b[39;00m (\u001b[38;5;167;01mTypeError\u001b[39;00m, \u001b[38;5;167;01mValueError\u001b[39;00m):\n\u001b[0;32m   1262\u001b[0m   \u001b[38;5;66;03m# Note: convert_to_eager_tensor currently raises a ValueError, not a\u001b[39;00m\n\u001b[0;32m   1263\u001b[0m   \u001b[38;5;66;03m# TypeError, when given unexpected types.  So we need to catch both.\u001b[39;00m\n\u001b[0;32m   1264\u001b[0m   result \u001b[38;5;241m=\u001b[39m dispatch(op_dispatch_handler, args, kwargs)\n",
      "File \u001b[1;32mC:\\ProgramData\\anaconda3\\Lib\\site-packages\\tensorflow\\python\\ops\\math_ops.py:2432\u001b[0m, in \u001b[0;36mreduce_sum\u001b[1;34m(input_tensor, axis, keepdims, name)\u001b[0m\n\u001b[0;32m   2369\u001b[0m \u001b[38;5;129m@tf_export\u001b[39m(\u001b[38;5;124m\"\u001b[39m\u001b[38;5;124mmath.reduce_sum\u001b[39m\u001b[38;5;124m\"\u001b[39m, \u001b[38;5;124m\"\u001b[39m\u001b[38;5;124mreduce_sum\u001b[39m\u001b[38;5;124m\"\u001b[39m, v1\u001b[38;5;241m=\u001b[39m[])\n\u001b[0;32m   2370\u001b[0m \u001b[38;5;129m@dispatch\u001b[39m\u001b[38;5;241m.\u001b[39madd_dispatch_support\n\u001b[0;32m   2371\u001b[0m \u001b[38;5;28;01mdef\u001b[39;00m \u001b[38;5;21mreduce_sum\u001b[39m(input_tensor, axis\u001b[38;5;241m=\u001b[39m\u001b[38;5;28;01mNone\u001b[39;00m, keepdims\u001b[38;5;241m=\u001b[39m\u001b[38;5;28;01mFalse\u001b[39;00m, name\u001b[38;5;241m=\u001b[39m\u001b[38;5;28;01mNone\u001b[39;00m):\n\u001b[0;32m   2372\u001b[0m \u001b[38;5;250m  \u001b[39m\u001b[38;5;124;03m\"\"\"Computes the sum of elements across dimensions of a tensor.\u001b[39;00m\n\u001b[0;32m   2373\u001b[0m \n\u001b[0;32m   2374\u001b[0m \u001b[38;5;124;03m  This is the reduction operation for the elementwise `tf.math.add` op.\u001b[39;00m\n\u001b[1;32m   (...)\u001b[0m\n\u001b[0;32m   2429\u001b[0m \u001b[38;5;124;03m  @end_compatibility\u001b[39;00m\n\u001b[0;32m   2430\u001b[0m \u001b[38;5;124;03m  \"\"\"\u001b[39;00m\n\u001b[1;32m-> 2432\u001b[0m   \u001b[38;5;28;01mreturn\u001b[39;00m reduce_sum_with_dims(input_tensor, axis, keepdims, name,\n\u001b[0;32m   2433\u001b[0m                               _ReductionDims(input_tensor, axis))\n",
      "File \u001b[1;32mC:\\ProgramData\\anaconda3\\Lib\\site-packages\\tensorflow\\python\\ops\\math_ops.py:2444\u001b[0m, in \u001b[0;36mreduce_sum_with_dims\u001b[1;34m(input_tensor, axis, keepdims, name, dims)\u001b[0m\n\u001b[0;32m   2436\u001b[0m \u001b[38;5;28;01mdef\u001b[39;00m \u001b[38;5;21mreduce_sum_with_dims\u001b[39m(input_tensor,\n\u001b[0;32m   2437\u001b[0m                          axis\u001b[38;5;241m=\u001b[39m\u001b[38;5;28;01mNone\u001b[39;00m,\n\u001b[0;32m   2438\u001b[0m                          keepdims\u001b[38;5;241m=\u001b[39m\u001b[38;5;28;01mFalse\u001b[39;00m,\n\u001b[0;32m   2439\u001b[0m                          name\u001b[38;5;241m=\u001b[39m\u001b[38;5;28;01mNone\u001b[39;00m,\n\u001b[0;32m   2440\u001b[0m                          dims\u001b[38;5;241m=\u001b[39m\u001b[38;5;28;01mNone\u001b[39;00m):\n\u001b[0;32m   2441\u001b[0m   keepdims \u001b[38;5;241m=\u001b[39m \u001b[38;5;28;01mFalse\u001b[39;00m \u001b[38;5;28;01mif\u001b[39;00m keepdims \u001b[38;5;129;01mis\u001b[39;00m \u001b[38;5;28;01mNone\u001b[39;00m \u001b[38;5;28;01melse\u001b[39;00m \u001b[38;5;28mbool\u001b[39m(keepdims)\n\u001b[0;32m   2442\u001b[0m   \u001b[38;5;28;01mreturn\u001b[39;00m _may_reduce_to_scalar(\n\u001b[0;32m   2443\u001b[0m       keepdims, axis,\n\u001b[1;32m-> 2444\u001b[0m       gen_math_ops\u001b[38;5;241m.\u001b[39m_sum(input_tensor, dims, keepdims, name\u001b[38;5;241m=\u001b[39mname))\n",
      "File \u001b[1;32mC:\\ProgramData\\anaconda3\\Lib\\site-packages\\tensorflow\\python\\ops\\gen_math_ops.py:12307\u001b[0m, in \u001b[0;36m_sum\u001b[1;34m(input, axis, keep_dims, name)\u001b[0m\n\u001b[0;32m  12305\u001b[0m   \u001b[38;5;28;01mpass\u001b[39;00m\n\u001b[0;32m  12306\u001b[0m \u001b[38;5;28;01mtry\u001b[39;00m:\n\u001b[1;32m> 12307\u001b[0m   \u001b[38;5;28;01mreturn\u001b[39;00m _sum_eager_fallback(\n\u001b[0;32m  12308\u001b[0m       \u001b[38;5;28minput\u001b[39m, axis, keep_dims\u001b[38;5;241m=\u001b[39mkeep_dims, name\u001b[38;5;241m=\u001b[39mname, ctx\u001b[38;5;241m=\u001b[39m_ctx)\n\u001b[0;32m  12309\u001b[0m \u001b[38;5;28;01mexcept\u001b[39;00m _core\u001b[38;5;241m.\u001b[39m_SymbolicException:\n\u001b[0;32m  12310\u001b[0m   \u001b[38;5;28;01mpass\u001b[39;00m  \u001b[38;5;66;03m# Add nodes to the TensorFlow graph.\u001b[39;00m\n",
      "File \u001b[1;32mC:\\ProgramData\\anaconda3\\Lib\\site-packages\\tensorflow\\python\\ops\\gen_math_ops.py:12339\u001b[0m, in \u001b[0;36m_sum_eager_fallback\u001b[1;34m(input, axis, keep_dims, name, ctx)\u001b[0m\n\u001b[0;32m  12337\u001b[0m _inputs_flat \u001b[38;5;241m=\u001b[39m [\u001b[38;5;28minput\u001b[39m, axis]\n\u001b[0;32m  12338\u001b[0m _attrs \u001b[38;5;241m=\u001b[39m (\u001b[38;5;124m\"\u001b[39m\u001b[38;5;124mkeep_dims\u001b[39m\u001b[38;5;124m\"\u001b[39m, keep_dims, \u001b[38;5;124m\"\u001b[39m\u001b[38;5;124mT\u001b[39m\u001b[38;5;124m\"\u001b[39m, _attr_T, \u001b[38;5;124m\"\u001b[39m\u001b[38;5;124mTidx\u001b[39m\u001b[38;5;124m\"\u001b[39m, _attr_Tidx)\n\u001b[1;32m> 12339\u001b[0m _result \u001b[38;5;241m=\u001b[39m _execute\u001b[38;5;241m.\u001b[39mexecute(\u001b[38;5;124mb\u001b[39m\u001b[38;5;124m\"\u001b[39m\u001b[38;5;124mSum\u001b[39m\u001b[38;5;124m\"\u001b[39m, \u001b[38;5;241m1\u001b[39m, inputs\u001b[38;5;241m=\u001b[39m_inputs_flat, attrs\u001b[38;5;241m=\u001b[39m_attrs,\n\u001b[0;32m  12340\u001b[0m                            ctx\u001b[38;5;241m=\u001b[39mctx, name\u001b[38;5;241m=\u001b[39mname)\n\u001b[0;32m  12341\u001b[0m \u001b[38;5;28;01mif\u001b[39;00m _execute\u001b[38;5;241m.\u001b[39mmust_record_gradient():\n\u001b[0;32m  12342\u001b[0m   _execute\u001b[38;5;241m.\u001b[39mrecord_gradient(\n\u001b[0;32m  12343\u001b[0m       \u001b[38;5;124m\"\u001b[39m\u001b[38;5;124mSum\u001b[39m\u001b[38;5;124m\"\u001b[39m, _inputs_flat, _attrs, _result)\n",
      "File \u001b[1;32mC:\\ProgramData\\anaconda3\\Lib\\site-packages\\tensorflow\\python\\eager\\execute.py:53\u001b[0m, in \u001b[0;36mquick_execute\u001b[1;34m(op_name, num_outputs, inputs, attrs, ctx, name)\u001b[0m\n\u001b[0;32m     51\u001b[0m \u001b[38;5;28;01mtry\u001b[39;00m:\n\u001b[0;32m     52\u001b[0m   ctx\u001b[38;5;241m.\u001b[39mensure_initialized()\n\u001b[1;32m---> 53\u001b[0m   tensors \u001b[38;5;241m=\u001b[39m pywrap_tfe\u001b[38;5;241m.\u001b[39mTFE_Py_Execute(ctx\u001b[38;5;241m.\u001b[39m_handle, device_name, op_name,\n\u001b[0;32m     54\u001b[0m                                       inputs, attrs, num_outputs)\n\u001b[0;32m     55\u001b[0m \u001b[38;5;28;01mexcept\u001b[39;00m core\u001b[38;5;241m.\u001b[39m_NotOkStatusException \u001b[38;5;28;01mas\u001b[39;00m e:\n\u001b[0;32m     56\u001b[0m   \u001b[38;5;28;01mif\u001b[39;00m name \u001b[38;5;129;01mis\u001b[39;00m \u001b[38;5;129;01mnot\u001b[39;00m \u001b[38;5;28;01mNone\u001b[39;00m:\n",
      "\u001b[1;31mKeyboardInterrupt\u001b[0m: "
     ]
    }
   ],
   "source": [
    "comms_round = 40  # Number of global epochs\n",
    "acc3 = []\n",
    "local_weight_list = []  # Initialize the list to store local weights\n",
    "\n",
    "# # Assuming you have a global model defined somewhere before this code\n",
    "# global_model = ...  # Define or load your global model\n",
    "\n",
    "# Get the initial weights of the global model\n",
    "global_weights = global_model.get_weights()\n",
    "\n",
    "for comm_round in range(comms_round):\n",
    "    for client in tqdm(client_names, desc='Progress Bar'):\n",
    "        local_model = SimpleMLP.build()\n",
    "\n",
    "        local_model.compile(\n",
    "            loss='categorical_crossentropy',\n",
    "            optimizer='adam',\n",
    "            metrics=['accuracy']\n",
    "        )\n",
    "\n",
    "        # Set local model weight to the weight of the global model\n",
    "        local_model.set_weights(global_weights)\n",
    "\n",
    "        # Fit local model with client's data\n",
    "        local_model.fit(\n",
    "            np.array(clients_batched[client][0]),\n",
    "            np.array(clients_batched[client][1]),\n",
    "            epochs=2,\n",
    "            batch_size=32,\n",
    "            verbose=2\n",
    "        )\n",
    "\n",
    "        # Get the scaled model weights and add to the list\n",
    "        weights = local_model.get_weights()\n",
    "        local_weight_list.append(weights)\n",
    "\n",
    "        # Clear the session to free memory after each communication round\n",
    "        K.clear_session()\n",
    "\n",
    "    # Calculate the average weights across all clients for each layer\n",
    "    average_weights = avg_weights(local_weight_list)\n",
    "\n",
    "    # Update the global model with the average weights\n",
    "    global_model.set_weights(average_weights)\n",
    "\n",
    "    # Optionally, you can also test the global model at this point using a separate test dataset\n",
    "    global_acc, global_loss = test_model(test, one_hot_labels, global_model, comm_round)\n",
    "    acc3.append(global_acc)\n"
   ]
  },
  {
   "cell_type": "code",
   "execution_count": null,
   "id": "1dd9439e",
   "metadata": {},
   "outputs": [],
   "source": [
    "global_model.predict(test[0])"
   ]
  },
  {
   "cell_type": "code",
   "execution_count": 107,
   "id": "21dcc3d8",
   "metadata": {},
   "outputs": [
    {
     "data": {
      "text/plain": [
       "[<matplotlib.lines.Line2D at 0x14d60223ed0>]"
      ]
     },
     "execution_count": 107,
     "metadata": {},
     "output_type": "execute_result"
    },
    {
     "data": {
      "image/png": "[encoded data removed]",
      "text/plain": [
       "<Figure size 640x480 with 1 Axes>"
      ]
     },
     "metadata": {},
     "output_type": "display_data"
    }
   ],
   "source": [
    "import matplotlib.pyplot as plt\n",
    "plt.plot(acc3)"
   ]
  },
  {
   "cell_type": "code",
   "execution_count": 108,
   "id": "56c331f8",
   "metadata": {},
   "outputs": [],
   "source": [
    "acc3=np.array(acc3)"
   ]
  },
  {
   "cell_type": "code",
   "execution_count": 109,
   "id": "124e6636",
   "metadata": {},
   "outputs": [
    {
     "name": "stdout",
     "output_type": "stream",
     "text": [
      "55/55 [==============================] - 39s 677ms/step - loss: 0.2881 - accuracy: 0.8998\n"
     ]
    },
    {
     "data": {
      "text/plain": [
       "[0.2880716621875763, 0.8997709155082703]"
      ]
     },
     "execution_count": 109,
     "metadata": {},
     "output_type": "execute_result"
    }
   ],
   "source": [
    "global_model.evaluate(test,one_hot_labels)"
   ]
  },
  {
   "cell_type": "code",
   "execution_count": 110,
   "id": "79c87539",
   "metadata": {},
   "outputs": [],
   "source": [
    "np.save(\"acc_fedavg_pap.npy\",acc3)"
   ]
  },
  {
   "cell_type": "code",
   "execution_count": 111,
   "id": "593e070d",
   "metadata": {},
   "outputs": [
    {
     "name": "stderr",
     "output_type": "stream",
     "text": [
      "C:\\ProgramData\\anaconda3\\Lib\\site-packages\\keras\\src\\engine\\training.py:3103: UserWarning: You are saving your model as an HDF5 file via `model.save()`. This file format is considered legacy. We recommend using instead the native Keras format, e.g. `model.save('my_model.keras')`.\n",
      "  saving_api.save_model(\n"
     ]
    }
   ],
   "source": [
    "global_model.save(\"fedavg_pap.h5\")"
   ]
  },
  {
   "cell_type": "code",
   "execution_count": 112,
   "id": "2d6fdda2",
   "metadata": {},
   "outputs": [],
   "source": [
    "a=np.load(\"acc_fedavg_pap.npy\")"
   ]
  },
  {
   "cell_type": "code",
   "execution_count": 113,
   "id": "d0ca92ae",
   "metadata": {},
   "outputs": [
    {
     "data": {
      "text/plain": [
       "[<matplotlib.lines.Line2D at 0x14d60272110>]"
      ]
     },
     "execution_count": 113,
     "metadata": {},
     "output_type": "execute_result"
    },
    {
     "data": {
      "image/png": "[encoded data removed]",
      "text/plain": [
       "<Figure size 640x480 with 1 Axes>"
      ]
     },
     "metadata": {},
     "output_type": "display_data"
    }
   ],
   "source": [
    "plt.plot(a)"
   ]
  },
  {
   "cell_type": "code",
   "execution_count": null,
   "id": "5d664cb4",
   "metadata": {},
   "outputs": [],
   "source": []
  }
 ],
 "metadata": {
  "kernelspec": {
   "display_name": "Python 3 (ipykernel)",
   "language": "python",
   "name": "python3"
  },
  "language_info": {
   "codemirror_mode": {
    "name": "ipython",
    "version": 3
   },
   "file_extension": ".py",
   "mimetype": "text/x-python",
   "name": "python",
   "nbconvert_exporter": "python",
   "pygments_lexer": "ipython3",
   "version": "3.11.5"
  }
 },
 "nbformat": 4,
 "nbformat_minor": 5
}
